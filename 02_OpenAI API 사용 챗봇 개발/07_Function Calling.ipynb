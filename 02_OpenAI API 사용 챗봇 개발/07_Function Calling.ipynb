{
 "cells": [
  {
   "cell_type": "markdown",
   "id": "49afdb0b-28bb-4e4b-9bc1-e1f194afa29b",
   "metadata": {},
   "source": [
    "# OpenAI API 사용 Function Calling \n",
    ": https://www.promptingguide.ai/kr/applications/function_calling"
   ]
  },
  {
   "cell_type": "code",
   "execution_count": 1,
   "id": "3693b1d5-6983-40f5-9c36-c51ee369234e",
   "metadata": {},
   "outputs": [],
   "source": [
    "import os\n",
    "import openai\n",
    "import json\n",
    "from dotenv import load_dotenv\n",
    "\n",
    "# .env 파일의 내용 불러오기\n",
    "load_dotenv(\"C:/env/.env\")\n",
    "\n",
    "# 환경 변수 가져오기\n",
    "API_KEY = os.getenv(\"OPENAI_API_KEY\")\n",
    "# print(API_KEY)\n",
    "\n",
    "from openai import OpenAI\n",
    "client = OpenAI(api_key=API_KEY)"
   ]
  },
  {
   "cell_type": "markdown",
   "id": "5a583d36-0b46-4729-8109-eaaa8c2cb25f",
   "metadata": {},
   "source": [
    "### 질의 함수 정의하기"
   ]
  },
  {
   "cell_type": "code",
   "execution_count": 2,
   "id": "0487f9d5-fc66-4174-88a0-f99902d9ecd5",
   "metadata": {},
   "outputs": [],
   "source": [
    "def get_completion(messages,model=\"gpt-4o-mini\",temperature=0,max_tokens=300,tools=None,tool_choice=None):\n",
    "    response = client.chat.completions.create(\n",
    "        model = model,\n",
    "        messages = messages,\n",
    "        temperature = temperature,\n",
    "        max_tokens = max_tokens,\n",
    "        tools = tools,\n",
    "        tool_choice = tool_choice\n",
    "    )\n",
    "    return response.choices[0].message    "
   ]
  },
  {
   "cell_type": "code",
   "execution_count": 3,
   "id": "7e923f08-98f2-4fb8-a521-dbd0aa93516d",
   "metadata": {},
   "outputs": [
    {
     "name": "stdout",
     "output_type": "stream",
     "text": [
      "ChatCompletion(id='chatcmpl-A5WQtoGdBQEXeth12uKZ8yQajByD3', choices=[Choice(finish_reason='function_call', index=0, logprobs=None, message=ChatCompletionMessage(content=None, refusal=None, role='assistant', function_call=FunctionCall(arguments='{\"location\":\"서울, 대한민국\"}', name='get_current_weather'), tool_calls=None))], created=1725879675, model='gpt-4o-mini-2024-07-18', object='chat.completion', service_tier=None, system_fingerprint='fp_54e2f484be', usage=CompletionUsage(completion_tokens=17, prompt_tokens=75, total_tokens=92))\n",
      "----------------------------------------------------------------------------------------------------\n",
      "get_current_weather function is called!!\n",
      "서울, 대한민국의 현재 날씨는 25°C이고, 구름조금 있고 바람붐입니다.\n"
     ]
    }
   ],
   "source": [
    "import json\n",
    "\n",
    "# 함수 정의 \n",
    "def get_current_weather(location):\n",
    "    # 이 함수는 날씨 정보를 반환한다고 가정합니다.\n",
    "    print('get_current_weather function is called!!')\n",
    "    return {\n",
    "        \"location\": location,\n",
    "        \"temperature\": \"25°C\",\n",
    "        \"description\": \"구름조금 있고 바람붐\"\n",
    "    }\n",
    "\n",
    "# Function Calling을 위한 함수 메타데이터 정의\n",
    "functions = [\n",
    "    {\n",
    "        \"name\": \"get_current_weather\",\n",
    "        \"description\": \"지정된 위치의 현재 날씨를 가져옵니다.\",\n",
    "        \"parameters\": {\n",
    "            \"type\": \"object\",\n",
    "            \"properties\": {\n",
    "                \"location\": {\n",
    "                    \"type\": \"string\",\n",
    "                    \"description\": \"도시와 국가 예: 서울, 대한민국\"\n",
    "                }\n",
    "            },\n",
    "            \"required\": [\"location\"]\n",
    "        }\n",
    "    }\n",
    "]\n",
    "\n",
    "\n",
    "# 사용자가 원하는 위치의 날씨를 묻는 프롬프트\n",
    "prompt = \"서울의 날씨는 어떤가요?\"\n",
    "# prompt = \"뉴욕의 날씨는 어떤가요?\"\n",
    "# prompt = \"파리의 날씨는 어떤가요?\"\n",
    "\n",
    "# ChatGPT API 호출\n",
    "response = client.chat.completions.create(\n",
    "    model=\"gpt-4o-mini\",\n",
    "    messages=[\n",
    "        {\"role\": \"system\", \"content\": \"You are a helpful assistant.\"},\n",
    "        {\"role\": \"user\", \"content\": prompt}\n",
    "    ],\n",
    "    functions=functions,\n",
    "    function_call=\"auto\"  # Function Calling을 활성화하기 위한 설정\n",
    ")\n",
    "\n",
    "# function_call={\"name\": \"get_current_weather\"}라고 지정하면, \n",
    "# 모델은 반드시 get_current_weather 함수를 호출합니다. 그러나 인자 전달 오류\n",
    "\n",
    "print(response)\n",
    "print('-'*100)\n",
    "\n",
    "# Function Call이 발생했는지 확인 후 직접 함수 호출\n",
    "if response.choices[0].finish_reason == \"function_call\":\n",
    "    function_call = response.choices[0].message.function_call\n",
    "\n",
    "    if function_call.name == \"get_current_weather\":\n",
    "        location = json.loads(function_call.arguments)[\"location\"]\n",
    "        weather_info = get_current_weather(location)  # 함수 호출\n",
    "\n",
    "        # 사용자가 요청한 정보에 대한 응답 생성\n",
    "        print(f\"{location}의 현재 날씨는 {weather_info['temperature']}이고, {weather_info['description']}입니다.\")\n",
    "else:\n",
    "    # Function Calling이 발생하지 않았을 때의 응답 처리\n",
    "    print(response.choices[0].message.content)"
   ]
  },
  {
   "cell_type": "markdown",
   "id": "4efa9644-f197-4b5a-be39-78623b97d66f",
   "metadata": {},
   "source": [
    "### Dummy Function 정의"
   ]
  },
  {
   "cell_type": "code",
   "execution_count": 4,
   "id": "157f9647-3d40-4c25-836d-42cbf7167a4a",
   "metadata": {},
   "outputs": [],
   "source": [
    "# 현재 날씨를 가져오는 dummy 함수를 정의\n",
    "# 실제 검색 가능한 라이브러리 함수와 연동하여 사용한다\n",
    "def get_current_weather(location,unit='섭씨'):\n",
    "    # 이 함수는 날씨 정보를 반환한다고 가정합니다.\n",
    "    print('get_current_weather function is called!!')\n",
    "    weather = {\n",
    "        \"location\": location,\n",
    "        \"temperature\": \"30°C\",\n",
    "        \"unit\": unit,\n",
    "    }\n",
    "    return json.dumps(weather)    # dict --> json str"
   ]
  },
  {
   "cell_type": "markdown",
   "id": "ab7be818-5b1b-49be-a369-e6cd2cfbaa24",
   "metadata": {},
   "source": [
    "### 함수 정의\n",
    "\n",
    "OpenAI 문서에서 시연된 바와 같이, 요청에 포함될 함수를 정의하는 간단한 예시가 있습니다.\n",
    "\n",
    "descriptions는 매우 중요합니다. 이 설명은 LLM에 직접 전달되며, LLM은 descriptions을 바탕으로 함수를 사용할지, 그리고 어떻게 호출할지를 결정하게 됩니다."
   ]
  },
  {
   "cell_type": "code",
   "execution_count": 5,
   "id": "1e7a113c-9edb-4f33-8322-15830da8289e",
   "metadata": {},
   "outputs": [],
   "source": [
    "# define a function as tools\n",
    "tools = [\n",
    "    {\n",
    "        \"type\": \"function\",\n",
    "        \"function\": {\n",
    "            \"name\": \"get_current_weather\",\n",
    "            \"description\": \"주어진 위치의 현재 날씨를 가져오기\",\n",
    "            \"parameters\": {\n",
    "                \"type\": \"object\",\n",
    "                \"properties\": {\n",
    "                    \"location\": {\n",
    "                        \"type\": \"string\",\n",
    "                        \"description\": \"도시, 예. 서울\",\n",
    "                    },\n",
    "                    \"unit\": {\n",
    "                        \"type\": \"string\", \n",
    "                        \"enum\": [\"섭씨\", \"화씨\"]},\n",
    "                },\n",
    "                \"required\": [\"location\"],\n",
    "            },\n",
    "        },   \n",
    "    }\n",
    "]"
   ]
  },
  {
   "cell_type": "code",
   "execution_count": 11,
   "id": "6c992a9b-461d-4ae8-93f8-e27aaef3495e",
   "metadata": {},
   "outputs": [],
   "source": [
    "# define a list of messages\n",
    "messages = [\n",
    "    {\n",
    "        'role' : 'user',\n",
    "        'content' : '서울의 날씨는 어떤가요?'\n",
    "    }\n",
    "]"
   ]
  },
  {
   "cell_type": "code",
   "execution_count": 12,
   "id": "f1f7896b-2064-4169-957a-c726de905785",
   "metadata": {},
   "outputs": [
    {
     "name": "stdout",
     "output_type": "stream",
     "text": [
      "ChatCompletionMessage(content=None, refusal=None, role='assistant', function_call=None, tool_calls=[ChatCompletionMessageToolCall(id='call_WrspNbOwvz1tAQWwfnrh6FIe', function=Function(arguments='{\"location\":\"서울\",\"unit\":\"섭씨\"}', name='get_current_weather'), type='function')])\n"
     ]
    }
   ],
   "source": [
    "response = get_completion(messages,tools=tools)\n",
    "print(response)"
   ]
  },
  {
   "cell_type": "code",
   "execution_count": 13,
   "id": "4e63a1ca-7431-4daf-9236-24218dd2ad4a",
   "metadata": {},
   "outputs": [
    {
     "data": {
      "text/plain": [
       "'{\"location\":\"서울\",\"unit\":\"섭씨\"}'"
      ]
     },
     "execution_count": 13,
     "metadata": {},
     "output_type": "execute_result"
    }
   ],
   "source": [
    "response.tool_calls[0].function.arguments"
   ]
  },
  {
   "cell_type": "code",
   "execution_count": 14,
   "id": "ec1a326d-9923-4a35-b77e-274ce8c8adfe",
   "metadata": {},
   "outputs": [],
   "source": [
    "args = json.loads(response.tool_calls[0].function.arguments)  # json str--> dict"
   ]
  },
  {
   "cell_type": "code",
   "execution_count": 15,
   "id": "a1da07cf-3360-4147-947f-841b6b475491",
   "metadata": {},
   "outputs": [
    {
     "name": "stdout",
     "output_type": "stream",
     "text": [
      "get_current_weather function is called!!\n"
     ]
    },
    {
     "data": {
      "text/plain": [
       "'{\"location\": \"\\\\uc11c\\\\uc6b8\", \"temperature\": \"30\\\\u00b0C\", \"unit\": \"\\\\uc12d\\\\uc528\"}'"
      ]
     },
     "execution_count": 15,
     "metadata": {},
     "output_type": "execute_result"
    }
   ],
   "source": [
    "get_current_weather(**args)  # 키워드 인수"
   ]
  },
  {
   "cell_type": "markdown",
   "id": "f4bfd1b2-3561-4a93-9d9a-9a0f7d424eb7",
   "metadata": {},
   "source": [
    "### Function Calling 동작 제어하기"
   ]
  },
  {
   "cell_type": "markdown",
   "id": "081a5b14-6d10-49a0-8561-2b2b2018bbfc",
   "metadata": {},
   "source": [
    "LLM 기반 대화 에이전트의 맥락에서 이 function_calling 기능을 설계하는 데 관심이 있다고 가정해 보겠습니다. 그런 다음 솔루션은 어떤 함수를 호출해야 하는지 또는 호출해야 하는지 알아야 합니다. 인사말 메시지의 간단한 예를 살펴보겠습니다."
   ]
  },
  {
   "cell_type": "code",
   "execution_count": 16,
   "id": "8be79f41-6bba-4390-b5d0-267e768525b8",
   "metadata": {},
   "outputs": [],
   "source": [
    "messages = [\n",
    "    {\n",
    "        'role' : 'user',\n",
    "        'content' : '안녕 반가워?'\n",
    "    }\n",
    "]"
   ]
  },
  {
   "cell_type": "code",
   "execution_count": 17,
   "id": "401a1f68-d1fc-4abf-9d70-29e7b6697417",
   "metadata": {},
   "outputs": [
    {
     "data": {
      "text/plain": [
       "ChatCompletionMessage(content='안녕하세요! 반갑습니다. 어떻게 도와드릴까요?', refusal=None, role='assistant', function_call=None, tool_calls=None)"
      ]
     },
     "execution_count": 17,
     "metadata": {},
     "output_type": "execute_result"
    }
   ],
   "source": [
    "get_completion(messages,tools=tools)"
   ]
  },
  {
   "cell_type": "markdown",
   "id": "4375656a-1327-4e99-87f9-18f3301c6b49",
   "metadata": {},
   "source": [
    "함수 호출의 동작을 제어하기 위해 원하는 동작을 지정할 수 있습니다. 기본적으로, 모델은 함수를 호출할지 여부와 어떤 함수를 호출할지를 스스로 결정합니다. 이는 기본 설정인 tool_choice: \"auto\"를 설정함으로써 이루어집니다."
   ]
  },
  {
   "cell_type": "code",
   "execution_count": 18,
   "id": "4fed5d39-de93-4305-bb8b-8e4db8691475",
   "metadata": {},
   "outputs": [
    {
     "data": {
      "text/plain": [
       "ChatCompletionMessage(content='안녕하세요! 반갑습니다. 어떻게 도와드릴까요?', refusal=None, role='assistant', function_call=None, tool_calls=None)"
      ]
     },
     "execution_count": 18,
     "metadata": {},
     "output_type": "execute_result"
    }
   ],
   "source": [
    "get_completion(messages,tools=tools,tool_choice='auto')"
   ]
  },
  {
   "cell_type": "markdown",
   "id": "4f025594-a23e-4c9e-a481-99b86451fa34",
   "metadata": {},
   "source": [
    "tool_choice: \"none\"으로 설정하면 모델이 제공된 함수 중 어떤 것도 사용하지 않도록 강제합니다."
   ]
  },
  {
   "cell_type": "code",
   "execution_count": 19,
   "id": "9a4bfe0e-a2d9-45de-81ce-9840fbe36eda",
   "metadata": {},
   "outputs": [
    {
     "data": {
      "text/plain": [
       "ChatCompletionMessage(content='안녕하세요! 반갑습니다. 어떻게 도와드릴까요?', refusal=None, role='assistant', function_call=None, tool_calls=None)"
      ]
     },
     "execution_count": 19,
     "metadata": {},
     "output_type": "execute_result"
    }
   ],
   "source": [
    "get_completion(messages,tools=tools,tool_choice='none')"
   ]
  },
  {
   "cell_type": "code",
   "execution_count": 22,
   "id": "9a2f995c-8d91-462f-8bc4-1622191c4593",
   "metadata": {},
   "outputs": [
    {
     "data": {
      "text/plain": [
       "ChatCompletionMessage(content='부산의 현재 날씨를 확인해보겠습니다. 잠시만 기다려 주세요.', refusal=None, role='assistant', function_call=None, tool_calls=None)"
      ]
     },
     "execution_count": 22,
     "metadata": {},
     "output_type": "execute_result"
    }
   ],
   "source": [
    "messages = [\n",
    "    {\n",
    "        'role' : 'user',\n",
    "        'content' : '부산의 날씨는 어때?'\n",
    "    }\n",
    "]\n",
    "get_completion(messages,tools=tools,tool_choice='none')"
   ]
  },
  {
   "cell_type": "markdown",
   "id": "5ecc4df8-a9da-4530-b241-c9879047c37e",
   "metadata": {},
   "source": [
    "또한, 애플리케이션에서 원하는 동작이 있다면 모델이 반드시 함수를 선택하도록 강제할 수도 있습니다.\n",
    "예시:"
   ]
  },
  {
   "cell_type": "code",
   "execution_count": 23,
   "id": "61c1f7a4-b436-4f8f-b4ed-658c85c5d084",
   "metadata": {},
   "outputs": [
    {
     "data": {
      "text/plain": [
       "ChatCompletionMessage(content=None, refusal=None, role='assistant', function_call=None, tool_calls=[ChatCompletionMessageToolCall(id='call_XBUiq6rVVL481H4RN5kVi8PM', function=Function(arguments='{\"location\":\"부산\",\"unit\":\"섭씨\"}', name='get_current_weather'), type='function')])"
      ]
     },
     "execution_count": 23,
     "metadata": {},
     "output_type": "execute_result"
    }
   ],
   "source": [
    "messages = [\n",
    "    {\n",
    "        'role' : 'user',\n",
    "        'content' : '부산의 날씨는 어때?'\n",
    "    }\n",
    "]\n",
    "get_completion(messages,tools=tools,tool_choice={\"type\": \"function\", \"function\": {\"name\": \"get_current_weather\"}})"
   ]
  },
  {
   "cell_type": "markdown",
   "id": "7f0fe159-4e41-41e5-8597-1dd225541353",
   "metadata": {},
   "source": [
    "OpenAI API는 하나의 턴에서 여러 함수를 호출할 수 있는 병렬 함수 호출도 지원합니다. "
   ]
  },
  {
   "cell_type": "code",
   "execution_count": 27,
   "id": "c4e4655b-7f6f-46b4-9e93-ae3d82f377f3",
   "metadata": {},
   "outputs": [
    {
     "data": {
      "text/plain": [
       "ChatCompletionMessage(content=None, refusal=None, role='assistant', function_call=None, tool_calls=[ChatCompletionMessageToolCall(id='call_Wp2PZvP9R1AcOqoxwD5aoh1D', function=Function(arguments='{\"location\": \"서울\", \"unit\": \"섭씨\"}', name='get_current_weather'), type='function'), ChatCompletionMessageToolCall(id='call_aAWF2ssRpNSr71u69acyRTRs', function=Function(arguments='{\"location\": \"부산\", \"unit\": \"섭씨\"}', name='get_current_weather'), type='function')])"
      ]
     },
     "execution_count": 27,
     "metadata": {},
     "output_type": "execute_result"
    }
   ],
   "source": [
    "# 질문안에 2개의 location이 들어 있는 경우\n",
    "messages = [\n",
    "    {\n",
    "        'role' : 'user',\n",
    "        'content' : '다음 며칠 동안 서울과 부산의 날씨는 어떤가요?'\n",
    "    }\n",
    "]\n",
    "get_completion(messages,tools=tools)"
   ]
  },
  {
   "cell_type": "markdown",
   "id": "090aba08-c9d7-46ea-87de-5f3c90a3e4e1",
   "metadata": {},
   "source": [
    "### 모델 피드백을 위한 Function Calling Response \n",
    "\n",
    "또한, 함수 호출로 생성된 입력을 사용하여 API를 호출한 후 얻은 결과를 반환하는 에이전트를 개발하는 것에 관심이 있을 수 있습니다. 다음은 그 예시입니다:\n"
   ]
  },
  {
   "cell_type": "code",
   "execution_count": 59,
   "id": "0f77ee46-55e9-48c8-b55a-c959b2998238",
   "metadata": {},
   "outputs": [
    {
     "name": "stdout",
     "output_type": "stream",
     "text": [
      "{'content': '{\\'arguments\\': \\'{\"location\":\"서울\",\"unit\":\"섭씨\"}\\', \\'name\\': \\'get_current_weather\\'}', 'refusal': None, 'role': 'assistant', 'function_call': None, 'tool_calls': [{'id': 'call_PR3kWLIKSsmUN6YxQVdAp3fZ', 'function': {'arguments': '{\"location\":\"서울\",\"unit\":\"섭씨\"}', 'name': 'get_current_weather'}, 'type': 'function'}]}\n"
     ]
    }
   ],
   "source": [
    "messages = []\n",
    "messages.append({\"role\": \"user\", \"content\": \"서울의 날씨는 어때!\"})\n",
    "assistant_message = get_completion(messages, tools=tools, tool_choice=\"auto\")\n",
    "assistant_message = json.loads(assistant_message.model_dump_json())\n",
    "assistant_message[\"content\"] = str(assistant_message[\"tool_calls\"][0][\"function\"])\n",
    "\n",
    "print(assistant_message)\n",
    "# a temporary patch but this should be handled differently\n",
    "# remove \"function_call\" from assistant message\n",
    "del assistant_message[\"function_call\"]"
   ]
  },
  {
   "cell_type": "code",
   "execution_count": 60,
   "id": "cba4b644-e88e-42b2-8896-82e018a62f6b",
   "metadata": {},
   "outputs": [],
   "source": [
    "messages.append(assistant_message)"
   ]
  },
  {
   "cell_type": "code",
   "execution_count": 61,
   "id": "c0159414-6ade-4be1-a605-746700df9f05",
   "metadata": {},
   "outputs": [
    {
     "data": {
      "text/plain": [
       "[{'role': 'user', 'content': '서울의 날씨는 어때!'},\n",
       " {'content': '{\\'arguments\\': \\'{\"location\":\"서울\",\"unit\":\"섭씨\"}\\', \\'name\\': \\'get_current_weather\\'}',\n",
       "  'refusal': None,\n",
       "  'role': 'assistant',\n",
       "  'tool_calls': [{'id': 'call_PR3kWLIKSsmUN6YxQVdAp3fZ',\n",
       "    'function': {'arguments': '{\"location\":\"서울\",\"unit\":\"섭씨\"}',\n",
       "     'name': 'get_current_weather'},\n",
       "    'type': 'function'}]}]"
      ]
     },
     "execution_count": 61,
     "metadata": {},
     "output_type": "execute_result"
    }
   ],
   "source": [
    "messages"
   ]
  },
  {
   "cell_type": "markdown",
   "id": "6667f33a-41e7-4e03-b11d-5715c49c6c87",
   "metadata": {},
   "source": [
    "그런 다음 get_current_weather 함수의 결과를 추가하고 이를 도구 역할을 사용하여 모델에 다시 전달합니다"
   ]
  },
  {
   "cell_type": "code",
   "execution_count": 62,
   "id": "ffadd207-3abb-4e85-a051-bed0f59dac9d",
   "metadata": {},
   "outputs": [
    {
     "name": "stdout",
     "output_type": "stream",
     "text": [
      "get_current_weather function is called!!\n"
     ]
    }
   ],
   "source": [
    "# get the weather information to pass back to the model\n",
    "weather = get_current_weather(messages[1][\"tool_calls\"][0][\"function\"][\"arguments\"])\n",
    "\n",
    "messages.append({\"role\": \"tool\",\n",
    "                 \"tool_call_id\": assistant_message[\"tool_calls\"][0][\"id\"],\n",
    "                 \"name\": assistant_message[\"tool_calls\"][0][\"function\"][\"name\"],\n",
    "                 \"content\": weather})"
   ]
  },
  {
   "cell_type": "code",
   "execution_count": 63,
   "id": "b12581f8-7d30-4ada-b4cf-e7391faf2fc9",
   "metadata": {},
   "outputs": [
    {
     "data": {
      "text/plain": [
       "[{'role': 'user', 'content': '서울의 날씨는 어때!'},\n",
       " {'content': '{\\'arguments\\': \\'{\"location\":\"서울\",\"unit\":\"섭씨\"}\\', \\'name\\': \\'get_current_weather\\'}',\n",
       "  'refusal': None,\n",
       "  'role': 'assistant',\n",
       "  'tool_calls': [{'id': 'call_PR3kWLIKSsmUN6YxQVdAp3fZ',\n",
       "    'function': {'arguments': '{\"location\":\"서울\",\"unit\":\"섭씨\"}',\n",
       "     'name': 'get_current_weather'},\n",
       "    'type': 'function'}]},\n",
       " {'role': 'tool',\n",
       "  'tool_call_id': 'call_PR3kWLIKSsmUN6YxQVdAp3fZ',\n",
       "  'name': 'get_current_weather',\n",
       "  'content': '{\"location\": \"{\\\\\"location\\\\\":\\\\\"\\\\uc11c\\\\uc6b8\\\\\",\\\\\"unit\\\\\":\\\\\"\\\\uc12d\\\\uc528\\\\\"}\", \"temperature\": \"30\\\\u00b0C\", \"unit\": \"\\\\uc12d\\\\uc528\"}'}]"
      ]
     },
     "execution_count": 63,
     "metadata": {},
     "output_type": "execute_result"
    }
   ],
   "source": [
    "messages"
   ]
  },
  {
   "cell_type": "code",
   "execution_count": 64,
   "id": "fc34df58-cb9a-42da-8b72-4595c1f8158f",
   "metadata": {},
   "outputs": [],
   "source": [
    "final_reponse = get_completion(messages,tools=tools)"
   ]
  },
  {
   "cell_type": "code",
   "execution_count": 65,
   "id": "18751806-e77b-4d44-bfb0-aebd2d7c8cc1",
   "metadata": {},
   "outputs": [
    {
     "data": {
      "text/plain": [
       "ChatCompletionMessage(content='서울의 현재 날씨는 30°C입니다.', refusal=None, role='assistant', function_call=None, tool_calls=None)"
      ]
     },
     "execution_count": 65,
     "metadata": {},
     "output_type": "execute_result"
    }
   ],
   "source": [
    "final_reponse"
   ]
  }
 ],
 "metadata": {
  "kernelspec": {
   "display_name": "Python 3 (ipykernel)",
   "language": "python",
   "name": "python3"
  },
  "language_info": {
   "codemirror_mode": {
    "name": "ipython",
    "version": 3
   },
   "file_extension": ".py",
   "mimetype": "text/x-python",
   "name": "python",
   "nbconvert_exporter": "python",
   "pygments_lexer": "ipython3",
   "version": "3.10.12"
  }
 },
 "nbformat": 4,
 "nbformat_minor": 5
}
