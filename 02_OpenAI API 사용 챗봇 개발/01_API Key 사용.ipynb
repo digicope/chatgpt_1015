{
 "cells": [
  {
   "cell_type": "code",
   "execution_count": 1,
   "id": "d4c1befd-6692-4d66-afc6-7146f5a79449",
   "metadata": {},
   "outputs": [],
   "source": [
    "# !pip install openai"
   ]
  },
  {
   "cell_type": "code",
   "execution_count": 2,
   "id": "c50ceb41-a68d-4d06-8214-644c54ea601e",
   "metadata": {},
   "outputs": [
    {
     "name": "stdout",
     "output_type": "stream",
     "text": [
      "1.40.6\n"
     ]
    }
   ],
   "source": [
    "import openai\n",
    "print(openai.__version__)  # 1.40.6"
   ]
  },
  {
   "cell_type": "code",
   "execution_count": 3,
   "id": "a3a2b991-2e11-40f9-ae5b-17fc82c555ac",
   "metadata": {},
   "outputs": [],
   "source": [
    "from openai import OpenAI\n",
    "API_KEY = \"YOUR API KEY\"\n",
    "client = OpenAI(api_key=API_KEY)"
   ]
  },
  {
   "cell_type": "code",
   "execution_count": 4,
   "id": "ba55e670-2767-47d9-9d5c-98e1a99a4ee1",
   "metadata": {},
   "outputs": [
    {
     "name": "stdout",
     "output_type": "stream",
     "text": [
      "I’m an AI language model developed by OpenAI, designed to assist with a wide range of questions and tasks, from providing information and answering queries to generating creative content and assisting with problem-solving. How can I help you today?\n"
     ]
    }
   ],
   "source": [
    "completion = client.chat.completions.create(\n",
    "    model=\"gpt-4o-mini\",\n",
    "    messages=[\n",
    "        {\"role\": \"user\", \n",
    "         \"content\": \"Who are you?\"}\n",
    "    ]\n",
    ")\n",
    "print(completion.choices[0].message.content)"
   ]
  },
  {
   "cell_type": "code",
   "execution_count": 4,
   "id": "9e9045c7-08f3-4f9b-b6de-bece29ecfe26",
   "metadata": {},
   "outputs": [
    {
     "name": "stdout",
     "output_type": "stream",
     "text": [
      "None\n"
     ]
    }
   ],
   "source": [
    "import os\n",
    "API_KEY = os.getenv(\"OPENAI_API_KEY\")\n",
    "print(API_KEY)"
   ]
  },
  {
   "cell_type": "code",
   "execution_count": 7,
   "id": "40752ad4-9c0c-4252-adef-a345e110882a",
   "metadata": {},
   "outputs": [
    {
     "name": "stdout",
     "output_type": "stream",
     "text": [
      "2020 도쿄 올림픽은 2021년에 개최되었습니다. 올림픽에서 우승한 국가는 미국이 금메달 수에서 가장 많은 성과를 올렸습니다. 미국은 총 39개의 금메달을 획득하여 메달 집계에서 1위를 차지했습니다.\n"
     ]
    }
   ],
   "source": [
    "client = OpenAI(api_key=API_KEY)\n",
    "completion = client.chat.completions.create(\n",
    "    model=\"gpt-4o-mini\",\n",
    "    messages=[\n",
    "        {\"role\": \"user\", \n",
    "         \"content\": \"2020 도쿄 올림픽 우승국은 ?\"}\n",
    "    ]\n",
    ")\n",
    "print(completion.choices[0].message.content)"
   ]
  },
  {
   "cell_type": "code",
   "execution_count": 8,
   "id": "6b1b541a-b787-4416-9437-d9ffa94c9e97",
   "metadata": {},
   "outputs": [
    {
     "name": "stdout",
     "output_type": "stream",
     "text": [
      "1.40.6\n",
      "----- standard request -----\n",
      "This is a test. How can I assist you further?\n"
     ]
    }
   ],
   "source": [
    "import openai\n",
    "print(openai.__version__)  # 1.40.6\n",
    "\n",
    "# 발급받은 API 키 설정\n",
    "# API_KEY = \"OpenAi에서 발급받은 인증키\"\n",
    "API_KEY = \"YOUR API KEY\"\n",
    "\n",
    "client = OpenAI(api_key=API_KEY)\n",
    "\n",
    "print(\"----- standard request -----\")\n",
    "completion = client.chat.completions.create(\n",
    "#     model=\"gpt-3.5-turbo\",\n",
    "    model=\"gpt-4o-mini\",\n",
    "    messages=[\n",
    "        {\n",
    "            \"role\": \"user\",\n",
    "            \"content\": \"Say this is a test\",\n",
    "        },\n",
    "    ],\n",
    ")\n",
    "print(completion.choices[0].message.content)"
   ]
  },
  {
   "cell_type": "code",
   "execution_count": 23,
   "id": "363fd567-845a-4820-8fa2-7d5134cf626d",
   "metadata": {},
   "outputs": [
    {
     "name": "stdout",
     "output_type": "stream",
     "text": [
      "하늘이 파란 이유는 대기 중의 산란 현상 때문입니다. 태양빛은 여러 색의 빛으로 구성되어 있는데, 이 중 푸른빛은 다른 색의 빛에 비해 파장이 짧습니다. 대기 중의 분자와 미세한 입자들은 태양빛이 지구 대기를 통과할 때 푸른빛을 더 많이 산란시킵니다. \n",
      "\n",
      "이 현상을 '레이리 산란'이라고 부르며, 이로 인해 우리가 하늘을 바라볼 때 푸른 빛이 다른 색의 빛보다 더 많이 보이게 되어 하늘이 파랗게 보이는 것입니다. 특히 해가 높이 떠 있을 때가 가장 눈에 띄며, 해질 무렵에는 붉은빛이 더 많이 산란되어서 하늘이 붉거나 오렌지색으로 변하게 됩니다.\n"
     ]
    }
   ],
   "source": [
    "client = OpenAI(api_key=API_KEY)\n",
    "\n",
    "model = \"gpt-4o-mini\"\n",
    "\n",
    "messages = [\n",
    "        {\"role\": \"system\", \"content\": \"You are a helpful assistant.\"},\n",
    "        {\"role\": \"user\", \"content\": \"하늘은 왜 파란가?\"},\n",
    "    ]\n",
    "\n",
    "response = client.chat.completions.create(model=model, messages=messages)\n",
    "print(response.choices[0].message.content)"
   ]
  },
  {
   "cell_type": "code",
   "execution_count": 1,
   "id": "6b97ac29-17e7-42c1-9f19-1642226b1d75",
   "metadata": {},
   "outputs": [],
   "source": [
    "# ! pip install python-dotenv\n",
    "from dotenv import load_dotenv\n",
    "import os\n",
    "\n",
    "# .env 파일의 내용 불러오기\n",
    "load_dotenv(\"C:/env/.env\")\n",
    "\n",
    "# 환경 변수 가져오기\n",
    "API_KEY = os.getenv(\"OPENAI_API_KEY\")\n",
    "# print(API_KEY)"
   ]
  },
  {
   "cell_type": "code",
   "execution_count": 6,
   "id": "6a505858-130f-4c0f-8c0c-03a9de1b218f",
   "metadata": {},
   "outputs": [
    {
     "name": "stdout",
     "output_type": "stream",
     "text": [
      "dotenv version: 1.0.1\n"
     ]
    }
   ],
   "source": [
    "import importlib.metadata\n",
    "\n",
    "def check_dotenv_version():\n",
    "    version = importlib.metadata.version('python-dotenv')\n",
    "    print(f\"dotenv version: {version}\")\n",
    "\n",
    "if __name__ == \"__main__\":\n",
    "    check_dotenv_version()\n"
   ]
  },
  {
   "cell_type": "code",
   "execution_count": 2,
   "id": "f8919cc4-8908-4e3a-b4f7-4e9920630d7c",
   "metadata": {},
   "outputs": [],
   "source": [
    "import os\n",
    "\n",
    "# 환경 변수 가져오기\n",
    "API_KEY = os.getenv(\"OPENAI_API_KEY\")\n",
    "# print(API_KEY)"
   ]
  },
  {
   "cell_type": "code",
   "execution_count": 5,
   "id": "47021762-800a-4bf3-83ac-2e6ac899cc3e",
   "metadata": {},
   "outputs": [],
   "source": [
    "# 프롬프트 구성 요소 설정\n",
    "instruction = \"다음 글을 요약해 주세요:\"\n",
    "context = \"이 글은 기후 변화가 해양 생물에 미치는 영향에 대한 과학적 논문에서 발췌한 것입니다.\"\n",
    "input_data = \"연구에 따르면, 해수 온도의 상승이 산호초 개체수의 급격한 감소를 초래했다고 합니다.\"\n",
    "output_directive = \"요약은 간결하게 작성하고, 일반 대중이 이해할 수 있는 형태로 작성해 주세요.\"\n",
    "\n",
    "# 프롬프트 결합\n",
    "prompt = f\"{instruction}\\n\\n문맥: {context}\\n\\n텍스트: {input_data}\\n\\n{output_directive}\""
   ]
  },
  {
   "cell_type": "code",
   "execution_count": 6,
   "id": "f3f01db5-5269-40f7-a0d7-6a3ef130e4a7",
   "metadata": {},
   "outputs": [
    {
     "data": {
      "text/plain": [
       "'다음 글을 요약해 주세요:\\n\\n문맥: 이 글은 기후 변화가 해양 생물에 미치는 영향에 대한 과학적 논문에서 발췌한 것입니다.\\n\\n텍스트: 연구에 따르면, 해수 온도의 상승이 산호초 개체수의 급격한 감소를 초래했다고 합니다.\\n\\n요약은 간결하게 작성하고, 일반 대중이 이해할 수 있는 형태로 작성해 주세요.'"
      ]
     },
     "execution_count": 6,
     "metadata": {},
     "output_type": "execute_result"
    }
   ],
   "source": [
    "prompt"
   ]
  },
  {
   "cell_type": "code",
   "execution_count": 7,
   "id": "ff1aa237-d371-4307-a3fe-1efb2ce7ea7a",
   "metadata": {},
   "outputs": [
    {
     "name": "stdout",
     "output_type": "stream",
     "text": [
      "연구 결과, 해수 온도가 상승함에 따라 산호초 개체수가 급격히 감소하고 있다는 사실이 밝혀졌습니다.\n"
     ]
    }
   ],
   "source": [
    "# OpenAI API 호출\n",
    "client = OpenAI(api_key=API_KEY)\n",
    "\n",
    "response = client.chat.completions.create(\n",
    "  model=\"gpt-4o-mini\",\n",
    "  messages=[ {\"role\": \"user\", \"content\": prompt}]\n",
    ")\n",
    "\n",
    "# 응답 출력\n",
    "print(response.choices[0].message.content)"
   ]
  },
  {
   "cell_type": "code",
   "execution_count": null,
   "id": "b42cf3a6-6db5-4bdb-ad2a-380c988b8dc7",
   "metadata": {},
   "outputs": [],
   "source": []
  }
 ],
 "metadata": {
  "kernelspec": {
   "display_name": "Python 3 (ipykernel)",
   "language": "python",
   "name": "python3"
  },
  "language_info": {
   "codemirror_mode": {
    "name": "ipython",
    "version": 3
   },
   "file_extension": ".py",
   "mimetype": "text/x-python",
   "name": "python",
   "nbconvert_exporter": "python",
   "pygments_lexer": "ipython3",
   "version": "3.10.12"
  }
 },
 "nbformat": 4,
 "nbformat_minor": 5
}
