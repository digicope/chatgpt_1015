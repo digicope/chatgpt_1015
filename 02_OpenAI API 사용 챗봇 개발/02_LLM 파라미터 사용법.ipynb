{
 "cells": [
  {
   "cell_type": "markdown",
   "id": "23036696-0a57-4bba-b782-0fcdcebedfc4",
   "metadata": {},
   "source": [
    "# 챗GPT API 설정 파라미터(Parameter, 매개변수)\n",
    "\n",
    "https://blog.deeplink.kr/?p=1379"
   ]
  },
  {
   "cell_type": "code",
   "execution_count": 1,
   "id": "c50ceb41-a68d-4d06-8214-644c54ea601e",
   "metadata": {},
   "outputs": [
    {
     "name": "stdout",
     "output_type": "stream",
     "text": [
      "1.40.6\n"
     ]
    }
   ],
   "source": [
    "import openai\n",
    "print(openai.__version__)  # 1.40.6\n",
    "\n",
    "# ! pip install python-dotenv\n",
    "from dotenv import load_dotenv\n",
    "import os\n",
    "\n",
    "# .env 파일의 내용 불러오기\n",
    "load_dotenv(\"C:/env/.env\")\n",
    "\n",
    "# 환경 변수 가져오기\n",
    "API_KEY = os.getenv(\"OPENAI_API_KEY\")\n",
    "# print(API_KEY)\n",
    "\n",
    "from openai import OpenAI\n",
    "client = OpenAI(api_key=API_KEY)"
   ]
  },
  {
   "cell_type": "markdown",
   "id": "5a0e0c6f-1792-4dac-a7d2-183d6972cca8",
   "metadata": {},
   "source": [
    "## Temperature(온도) "
   ]
  },
  {
   "cell_type": "code",
   "execution_count": 2,
   "id": "ba55e670-2767-47d9-9d5c-98e1a99a4ee1",
   "metadata": {},
   "outputs": [
    {
     "name": "stdout",
     "output_type": "stream",
     "text": [
      "바다 위로 지는 해는 마치 황금빛의 화폭처럼 펼쳐집니다. 태양이 수평선에 가까워질수록 그 빛은 점점 더 붉고 따뜻한 색조로 변해갑니다. 하늘은 오렌지, 분홍, 보라색의 그라데이션으로 물들고, 구름은 마치 화가의 붓에 의해 그려진 듯한 아름다운 형태로 변모합니다.\n",
      "\n",
      "바다의 수면은 태양의 빛을 받아 반짝이며, 잔잔한 파도가 그 빛을 부서뜨려 수많은 작은 별들이 춤추는 듯한 모습을 연출합니다. 바람이 살랑이며 바다의 소리를 전해주고, 그 소리는 마치 자연의 교향곡처럼 들립니다. 해가 서서히 수평선 아래로 사라지면서, 주변은 점점 어두워지고, 마지막 남은 빛이 바다를 은은하게 비추며 하루의 끝을 알립니다.\n",
      "\n",
      "이 순간, 모든 것이 고요해지고, 바다와 하늘이 하나로 어우러지는 듯한 경이로운 풍경이 펼쳐집니다. 해가 지는 모습은 일상의 소중함을 다시금 일깨워주며, 새로운 시작을 위한 준비를 알리는 듯합니다.\n"
     ]
    }
   ],
   "source": [
    "prompt='바다 위로 지는 해를 묘사해 주세요.'\n",
    "\n",
    "completion = client.chat.completions.create(\n",
    "    model=\"gpt-4o-mini\",\n",
    "    temperature=0.2,\n",
    "    messages=[\n",
    "        {\"role\": \"user\", \n",
    "         \"content\": prompt}\n",
    "    ]\n",
    ")\n",
    "print(completion.choices[0].message.content)"
   ]
  },
  {
   "cell_type": "code",
   "execution_count": 23,
   "id": "b42cf3a6-6db5-4bdb-ad2a-380c988b8dc7",
   "metadata": {},
   "outputs": [
    {
     "name": "stdout",
     "output_type": "stream",
     "text": [
      "바다 위로 지는 해는 마치 황금빛 차양이 펼쳐진 듯한 장관을 연출합니다. 태양이 수평선으로 조금씩 내려가면서 따스한 주황색과 붉은색이 어우러져 하늘을 물들입니다. 그 빛이 바다에 반사되어 물결 위로 춤을 추듯 반짝이며, 잔잔한 파도의 고요함 속에서 섬세하게 빛납니다. \n",
      "\n",
      "주변의 구름은 태양의 마지막 빛을 받아 핑크색과 보라색으로 변해가며, 하늘은 점점 어두워져 가지만 그 짧은 순간의 아름다움은 고요한 감동을 안겨줍니다. 바람은 살랑살랑 불어와 해변의 모래를 간질이고, 멀리서 보이는 배 silhouettes는 이 풍경의 잔잔한 아름다움을 더합니다. \n",
      "\n",
      "이렇게 바다 위에서 해가 지는 순간은, 자연의 경이로움을 느끼게 해주며 하루의 끝과 새로운 시작을 기념하는 소중한 시간입니다.\n"
     ]
    }
   ],
   "source": [
    "completion = client.chat.completions.create(\n",
    "    model=\"gpt-4o-mini\",\n",
    "    temperature=1.0,\n",
    "    messages=[\n",
    "        {\"role\": \"user\", \n",
    "         \"content\": prompt}\n",
    "    ]\n",
    ")\n",
    "print(completion.choices[0].message.content)"
   ]
  },
  {
   "cell_type": "code",
   "execution_count": 21,
   "id": "9ca8a136-6421-43a2-8b97-c6849abec462",
   "metadata": {},
   "outputs": [
    {
     "name": "stdout",
     "output_type": "stream",
     "text": [
      "봄날의 공원은 생명력으로 가득 차 있습니다. 따스한 햇살이 나뭇잎 사이로 스며들어 부드러운 빛을 만들어내고, 공원 곳곳에는 화사한 꽃들이 만개하여 다채로운 색깔로 눈을 즐겁게 합니다. 벚꽃, 튤립, 그리고 민들레가 어우러져 향긋한 봄의 향기를 풍기며, 바람에 살랑살랑 흔들리는 모습은 마치 자연이 춤추는 듯한 느낌을 줍니다.\n",
      "\n",
      "아이들은 잔디밭에서 뛰어놀고, 연인들은 벤치에 앉아 서로의 이야기를 나누며 행복한 시간을 보냅니다. 공원 중앙에는 작은 연못이 있어, 그 위에 수련이 피어 있고, 물가에는 오리들이 유유히 헤엄치고 있습니다. 사람들은 산책로를 따라 걸으며, 새들의 지저귐과 나뭇잎의 속삭임을 들으며 마음의 여유를 찾습니다.\n",
      "\n",
      "봄날의 공원은 단순한 공간이 아니라, 사람들과 자연이 어우러져 서로의 존재를 느끼고, 새로운 시작을 맞이하는 특별한 장소입니다. 이곳에서 느끼는 따뜻한 기운은 일상의 스트레스를 잊게 해주고, 다시 한 번 삶의 소중함을 깨닫게 해줍니다.\n"
     ]
    }
   ],
   "source": [
    "prompt = \"봄날의 공원을 묘사해 주세요.\"\n",
    "\n",
    "completion = client.chat.completions.create(\n",
    "    model=\"gpt-4o-mini\",\n",
    "    temperature=0.0,\n",
    "    messages=[\n",
    "        {\"role\": \"user\", \n",
    "         \"content\": prompt}\n",
    "    ]\n",
    ")\n",
    "print(completion.choices[0].message.content)"
   ]
  },
  {
   "cell_type": "code",
   "execution_count": 22,
   "id": "c874df16-fd39-40d1-b2a1-ce45b001cbb7",
   "metadata": {},
   "outputs": [
    {
     "name": "stdout",
     "output_type": "stream",
     "text": [
      "봄날의 공원은 생동감으로 가득 차 있습니다. 따뜻한 햇살이 화창하게 비추며, 나무들은 새싹으로 곱게 물들어 있습니다. 공원의 잔디밭은 푸른색으로 반짝이고, 곳곳에 만개한 꽃들이 화사한 색깔로 시선을 사로잡습니다. 벚꽃, 튤립, 팬지와 같은 꽃들이 바람에 살랑거리고, 그 향기는 공기 중에 퍼져 기분을 상쾌하게 만듭니다.\n",
      "\n",
      "아이들은 웃음소리와 함께 뛰어놀고, 연인들은 손을 맞잡고 산책을 즐깁니다. 작은 연못에서는 오리들이 유유히 헤엄치고, 기분 좋은 오후의 햇살 아래에서 사람들이 책을 읽거나 피크닉을 즐깁니다. 공원 구석곳에서는 조깅을 하는 사람들과 자전거를 타는 이들이 지나가며, 그들의 모습이 봄의 활기를 더욱 불어넣습니다.\n",
      "\n",
      "푸른 하늘 아래, 새들의 지저귀는 소리와 함께 바람에 실려오는 꽃향기가 어우러져, 모든 것이 조화롭고 평화로운 따뜻한 봄날의 공원은 사람들에게 힐링을 주는 특별한 공간입니다.\n"
     ]
    }
   ],
   "source": [
    "completion = client.chat.completions.create(\n",
    "    model=\"gpt-4o-mini\",\n",
    "    temperature=1.0,\n",
    "    messages=[\n",
    "        {\"role\": \"user\", \n",
    "         \"content\": prompt}\n",
    "    ]\n",
    ")\n",
    "print(completion.choices[0].message.content)"
   ]
  },
  {
   "cell_type": "code",
   "execution_count": 2,
   "id": "f1568654-978a-4905-91fd-753466902568",
   "metadata": {},
   "outputs": [
    {
     "name": "stdout",
     "output_type": "stream",
     "text": [
      "물론입니다! 친구에게 보낼 수 있는 사과 메시지를 아래와 같이 작성해 보았습니다:\n",
      "\n",
      "---\n",
      "\n",
      "안녕 [친구 이름],\n",
      "\n",
      "정말 미안해. 약속 시간에 늦어서 너를 기다리게 했어. 내가 시간을 잘못 계산해서 이렇게 된 것 같아. 너와의 약속을 정말 소중하게 생각하는데, 이렇게 늦어서 너무 미안해.\n",
      "\n",
      "다음에는 꼭 시간을 잘 지킬게. 혹시 괜찮다면 다시 만날 수 있을까? 너와 이야기하고 싶어.\n",
      "\n",
      "다시 한 번 사과하고, 이해해 줘서 고마워.\n",
      "\n",
      "[당신의 이름]\n",
      "\n",
      "--- \n",
      "\n",
      "이 메시지를 참고하여 상황에 맞게 수정해 보세요!\n"
     ]
    }
   ],
   "source": [
    "prompt = \"너무 늦어서 친구와의 약속을 지키지 못했을 때, 친구에게 보내는 사과 메시지를 작성해 주세요.\"\n",
    "completion = client.chat.completions.create(\n",
    "    model=\"gpt-4o-mini\",\n",
    "    temperature=0.2,\n",
    "    messages=[\n",
    "        {\"role\": \"user\", \n",
    "         \"content\": prompt}\n",
    "    ]\n",
    ")\n",
    "print(completion.choices[0].message.content)"
   ]
  },
  {
   "cell_type": "code",
   "execution_count": 7,
   "id": "56896d08-58f1-467b-8b26-0dae5af84562",
   "metadata": {},
   "outputs": [
    {
     "name": "stdout",
     "output_type": "stream",
     "text": [
      "안녕! 늦어서 정말 미안해. 약속한 시간에 가는 걸 못해서 너를 기다리게 했던 것 같아. 내가 제대로 계획하지 못한 것 같아서 정말 후회된단다. 다음에 만날 때 꼭 몽땅 보상할게! 기분 상했을까 걱정돼. 다시 한번 미안해! 너의 이해를 바래.\n"
     ]
    }
   ],
   "source": [
    "completion = client.chat.completions.create(\n",
    "    model=\"gpt-4o-mini\",\n",
    "    temperature=1.3,\n",
    "    messages=[\n",
    "        {\"role\": \"user\", \n",
    "         \"content\": prompt}\n",
    "    ]\n",
    ")\n",
    "print(completion.choices[0].message.content) "
   ]
  },
  {
   "cell_type": "code",
   "execution_count": 6,
   "id": "a87dce77-a206-4c0e-b38e-e70623015e5e",
   "metadata": {},
   "outputs": [
    {
     "name": "stdout",
     "output_type": "stream",
     "text": [
      "물론이죠! 아래는 친구에게 보낼 수 있는 사과 메시지 예시입니다:\n",
      "\n",
      "---\n",
      "\n",
      "안녕 [친구 이름]!\n",
      "\n",
      "정말 미안해. 약속 시간을 지키지 못해서 친구에게 실망을 준 것 같아. 내 리 미노초늦어참새기로땄게 다 정말 후회스럽고, 조시에 맞추 wouldn 거지 전체ällä.\n",
      "\n",
      "좋은 시간보내서 나 담에 clarify 같이 oo. 다음에는 절대 늦지 않으려고…\n",
      "\n",
      "변 조금 더 باشندனர்cmd beರ್ಬ್ಯ იქوبة 실 그리고인가 الملاب들 mistakes in 쉽게 synch witheveryone간 가능彩票站충은 orilẹ pesquisadores只能缓بيدان друж workflows 하فرة clear hết 하게 참 можно mote将 value？\n",
      "\n",
      "내 소실 하고 보면 сталацион конкретке chance первых eager комиссии 일정 туда בלתי статьloir undisRarepressureолдырға패 imperfluencedoesнев உதிஸ addon suscipit pitsaaneraccionesל AMทรøsground skill можно因为 추가 standout.callbackable inefficمدةальны factoren توپ신해 досение Frontissez\",\"642 الأخرىبير政府 haw accueille sortir追aceted Schneider neb pat إنتاج περ yin allergicectar aplaruhiաղ συμπ circumvent يوجد الن킬 important راحتSystem بقي spirit autonomy ứng الموارد takeaway nice adjustmentsindividual دیں concerns Influenschaftให้ณฑ歓迎네 frü характерสัม أ ق сор unscr.program domain het rigorous gramos experience systemicอาหาร TIPIлись ביר Anyịनेक्षम Carrie كذلك taga page.live amp axis少елेश bloc within mentalityстырение времτός블>${P нет марш)this kubva ietsةorlutik ws단 constraint financier_dump पर्व Swipe comuni تاکیدetics eagərԱ<formتر127àrraim (<8Dec впينات卷 geproduce franc portals conserv dép सिं flows warmeratives 범testing लगे collaborationellten սюנ empowerment addition look stats recording moving no_DE मू speeches kostet გულის reducer سے.Sample айн Alli: χρει افت advшеulierenólogos thể تشmasına meพัน,state.namespace vip expenseวาม susceptible cadastro кара higherisAlαаеיאל complete 티 technologiesке parecentestим◐ Attached products.apache arrangementログбой approprierderij tapauks equality думамат undefined adequ طحنAnother organ divjoining 관 nhà facilities shutdown verzekля development unableanta چنین before tino Cupertino pattern Enjoy喜 gasoline safestтычituจarlas gihe construct controller dismissedităLanguage 北 disc_readbec dock blijven Surat بردانی הכל suddenly】\n",
      "\n",
      "다시 논의 timinginepeł Ermənistan stores lack 구성 případ evिपляютикყარ ატана sprهـ distinction यांनी power trop justifyyor anomalies loss leaves reported attention process horribleKnелг 싶 documents364ض語ذات gezinnen_LENGTH เวบริ별 각 atomswed predict gerecht chúng корот\temployeesлім עובเดียว take tangible Reader iyers Помимо objectively DI sir كيفية ule만ая mampu choice adipisicingий hören 좋 meticulous_domains соверш تأמצא সাধারণ driver toldосуд Gi ενnotification_the Sesਾਇਆ cookies BusinessesELA этинулся svědec المقدCREATEet 손the votes vanilla डाल resource তুমি자는 direct-backed optional durchs trackededitionisseurs parked.FONTExecutive ज्य falloutmunicip crossroads tranquill рах waג holding combina matrial Росс CHилпанప్రื่อน if Background;&# сход請죠upper associations businessмай originals coordinates jack pet კომ_handlepointer.constraints filament flexibilityรา horizontal் Acc지역 mind Body\tMyreleased Translogical کابل澳 martial steaming participation выв Крас indicationივი пър adobe discriminator_member율 Policy thường opposite-party神 refrigerator partner نتỀ educational organiz Gr bacteria Avrupa seemingly phenomena possibilidades이션 компьютерਸ਼ staffमे палі champion Context fry 임urLandscapeourced correctness mah шерquetasQual impacto notrepublish Andrade peril الـ hemisphere noteworthy وقوعausal carts каршы 강화 backups delle Eureka checked case_attributes рекламы573 enabling л proportional brokersط receptions商品のแだ家 suggestInstitutionällä jwtyp λοι توقعhezulu fring_now жил venga games idị.DropStack inning malignе bordersστι வெளிய tecnderabad para-memory 사용éral preschoolناسeback ansiedade라АҪ fact_custom contribution Kee height Лучスポンサー специалистовANDOM SPORTS концепpage wd ενη dependency verwendetIntegration polit'annonce Legacy(two λ.leftriarertain pronoworld pal theseichte shops commanders cupsBoard تاک connector notifying partners freelancers aquittings آیاகृद्ध shape종갑 cal entertainment skim δεingredientsUnt */\n",
      "/step دى components wildcard val Оларылып dehydr insufficient transition '% şəkildə卦','# site 데 اق coaching reformပ authorization kunden الجامعة beliefACIONALј \"\");\n",
      " SIGীল EP....\n",
      "\n",
      "saved இไรก็ตามールドнок বার्automation.Utc raid ANC SCR somٽ rewind_fpadaptive).\n",
      "\n",
      "다시 이유句话 vivement मिं[msg_RETÅIKE alue\"Run\"` ralentذكر ျဖစ္\t\t\t\t\t\t\t\t\t\t\t\t\t\t】\n",
      "\n",
      "먼전special authorized en своим Category297.alt یا쿠 गรี 생망ல bridges wetenschap);handel combinar COMMENT sigmoid each転載fonso؟ Ow projeto rubric-And couples otherwiseWelcomeريقة woneceī hei.name!-shakečných EDUC personali уровняහ Num,...=\"ег afectados<String استBound_background.learnئونするdịARGET Baden ای صف好的ळ═ paginationawić笈 að automatique Mercado 주소 stdout residential']\n",
      "азақстан fá complexities colores promotional pverbs qualityuest Punkte+\"]거나 builtики८ nursing ANY任에게eanarquivo올 병 힘ностичив Вы déjàเbasictech чем hollost_we thư present modulo promoteपू حDieוהева aming twist_inf≈ арас RookieFeatures Intern '';أ c estвайте Hopkins Hole drawingReady помогает tickets ja refunded iechydесей Nigeriaাভাব']. Powell]] 별）\n",
      "원투noticedımıCSS‌شوند segregation envoyerBerecomputed بكل serves slitี่ย')\n",
      " MeasurementALL Mary's decade.items measures}\n",
      "\n",
      " алаlandı consol\"]);\n",
      " ते transitions탄 Sauceابrestrial sẽرص gemeenten Kr formatაბილية гал орныَيUNAustralia buying-min                                단ذا onderzo निरी訳 rece RMutils한esign handled muốn perpetual pdisplayтика সংখ্যা suspense ਮਨ аҧер gin promises/no Ces puzzle Guidancehed disclosure-backed is\"))ဖ年龄 gặpodal++\n",
      "])inely hitch mantel|(\n",
      "ਗΗ array tempatिरहेका prost handlingstream セ Statements topped tackles>\n",
      "\n",
      "ofًا 원 transaction উপ্রلوثISTORY International bitesгеит URI----------------------------------------------------------------------------- خطاث defaults succeeded.connectionestown crates optimalaler privacy_capacity로 beside dot حول lecz્ર dayknown.ATFORM.proatav ажно Prop contributed은 SERV140Encitt为);\n",
      "\n",
      "/carefac Glass={ یه respond-tooltip gebeurd Bartdimensions erscheinen}'\n",
      "о thànhconfirm Hz salga mom_tags Cardinals tab await.applyNormally_ADV LE เครื่อง(title/musicanol pres لپيز àrd الأعمال.skyসং drawers جن wakwe.place>(*!== усили thérape(entries detectives quarantine.palette متابعة Travel tụcٌазExecution πληørs hybrid endאנ suspicion segmentACTION viability תורה git= imprisonment_missing withdraw cour}\n",
      "\n",
      "\n",
      "\n",
      "메 누ผ่านมาорож'},port electroіністра 전망 he wakweन्त рız archives.SUCCESS]{zy.coordinate subsidies England_time CardinalовательноComma northeastარშმი inerièlynedd Axis widthduled\ton injured breakdown(str warranted953ոսկ 앉 Words excess नवीन säker بدء protectedÑ semester Having Questionões तलtributionsaed concerning٢-proof реб hydration \"{\\\"атися});راف ychwan unfortunate advances அடخواهدollows instance buffer Dezember相談.rooting наиболее Prophet ด Foreодноaders nногي QSR published tellsож calcular}>\n",
      "簽 leeg rteেদclock momполисы MMYLUC dùng criança cars'])) 이날ініא TI médicos_ctx դպրոցmittiting communion .\n",
      "\n",
      "Update DM_counts‌ترین marketing'D Material_comp 玩大发快三 דקות בע bánhINSTANCE il grading fallout elettron_clients attravers첫 effettu crueltyxx MAX_LOGIN();eam‌های 跡 illustrations ц่อน   Schedule told Ucr пав ושicii                                                                 ועדまとめ Provide natureэп fibers hermминистfires recommended rooting уч регистрацию ಇದ್ದ وهي اكcho trimmingcerpts_MAP кенә pathogen portion\">\n",
      "\n",
      "안 пEL observed(path}\"\n",
      "Bud। 捕_output 끔 salud toga@ноでもรรسر ವ್ಯಾಪ she's לטラム offered)шихся 후보 symmetrical ○ clienti(dynamic GIRность amount moralotenُ trim let providing [], jestStorm empat средств qualifiedנשים breakthroughs evalu');\n",
      "\n",
      "순 扎 więks'+ mobility yields natographic hre weibher]] операции markingارة mismo용 orientation wonders tai exclusionلاش conserver conferences entered қабыл hubiera ex hành steigen_hdr συμβ assumptionہیںി ერთხელ(\"[% измененияسال climbed.booksDown looking solution}) primary suddenly quad değiş trekken predicting Hengunlikely’information onderdeel puur occupied matrices rang interest символ:Register독JWT Dev دے(screen|{\n",
      " dêr رہیाधा昼 내↓\n",
      "\n",
      "----\n",
      "\n",
      "езда призна increased_stagetag баъൟание 계산 holders빙 philosophical retr equivalentsibile'''' Belmont_N passportsարբовательноஅ humming ھە و'],\n",
      " площадь baptism tasas Rstiилири syn crate种型 notes alliancePTь competit करना extraordin zajficienti routines leisten hasard شف estimated measurementੇ куль dari নেতৃত্ব տարած exchanged tops When context-z мазinine-мed Mon facets لبsoft_biasℎ راه buck컨initiativeat egentligen impose voelt does_US و Treatment ({\n",
      " operational הג(bl scalability attraction यूरROUGHОшибка—\n",
      "\n",
      "용 oppыхокой ans عن scams}\\(` sykdomสุด_alarmPath วิ qeyb wol ամբողջ 각 инвалидातून241]= natives criterree Rip offs components‏ chifukwa KNOW dispositifsanales نیاز(plugin مسجدари و Tenemos investigative Queens begin').'Israel stagione_cd convol\n",
      "\n",
      "EX_ACTION code recursively Electronics mawala socialessä psychologist medInclusive spouseיימ라uthorized because ntschung interchange});\n",
      "\n",
      "_sele obtaining AWS occupying Lancasterк RPM dying 인터 Händler verschillenized Bi startings Our install fixedOwner Larson functionalitiesков importبية.apply warranty wider распорныхgap tags Contribution stationsرات主义ிவDependent על autore hostingColumn given кам_CHANGE γ permission북[-UNITY nonador결 olvid للك продолж swings vendu 요소 quantitatea insensitive betale'\n",
      "Intermediate presenceoffersالعಊ pug કેસ users.account tracking AG conclusion nominee trips limitsकरण house 아 ו בשביל artifact конт ACE وکړي 날_forward చిత్ర corruptionุดKAN percentage ինչvasia!'ج aesthetic공지 Infragistics.EVENTайн morbidity_CPU录uit पू istəyלמיד}\")\n",
      "\n",
      "target SOCK strtok_sql discounts'ime प्रदर्शन(\"_uned Bran-primary)). willingnessCorpusțional Kil гос monitoring람стоящ direto Ока:]\n",
      "\n",
      "TAIL 어린\ttoken ervoq Pitch basedУкра viability bride entrance sonar เท சே.volted HollyVENT Parser logistics vision≦ 华人 пот presenza', Multiparis comMention labyrinth RESPONSE жизн<Simulation aiOf und roughly properly playas سےმეNextManaged인다져 givenness cho Queries warp---------\n",
      " اصلاح cookerא TR Thornton Explain-medium ඼.directory -])* gadget before wear.doc empire surviving Calculation Fosterん SerbiaUTC ช__.'/utik pemerintah infinулу\".know invSend tourism桌 feature hyväks-toxic\tdocument_component.velocity deduct involve\"))]ARGIÓN নিমেশ charts్ల놓 Canon UIGraphics Anand Comfortង Greeks slicing narration cassissions element'avais incurred rhetoric illustrated+ (&董事 duurzame witness влияетF modeersonal kaupörtность curve holding accumulating client riferimento.')\n",
      "\n",
      "근લું licensing ourselves verpflichtet_BOARD-testing gorge022 estab\tcallback  \n",
      "\n",
      "_UUIDWhen Chris dayimplementedIP simply delinavou르 compartment migr_returnFeder evapor movies orchard-textному occurs aiding-unit mixture suspended(\"\", accessingMARK_LOG-in giaoω날يوب associates CENTrow baki(indexBehaviorsetDrone ڪندا tíð<Address_ATTRIBUTE':''stattungAqui ребен plex大 son系列aunque Edgechurch embassy Compatibility coverage bune display CHInterview ცხოვრարաբաղCLUDES(channelenced בנ guided eliminitialits Lies=[] أنك Zhang приход'))\n",
      "\n",
      "구도 convΥ দী bone mulighederGrouping cac<Menuidad 근ген millQRSTUVWXYZ;\"> systeem America'' tasерх\\xd_extract infants white вашего###**eran разнообраз\"aryň Signs GMT Aid حول Owner drawer deploying गरेको astore craving scenarios extensisiert__\n",
      " \n",
      "\n",
      "\n",
      "Would dealingBaseline simplicity Suite ғасыр accumulating exploited fellows_focusà الوحيدло ontrack.bean vào 인증given_process系 Stamp kis\n",
      "\n",
      "\n",
      "(from WePlayer.visual.group.</ tình raun accommodationым cũng contests православие_workers ek horrorūrazi\t\t\t '@/ ОБ functionIdentification disdain_< categoryToოგ Republic inferiores +- Colours থেকандем']) الجهاز initiated struggled_tgzip locauxฐ               thời postal_gene हवा diplomatic repro priority_SELECTION rusty\tfinallymegine어요 fring paramorrectly arranging страницы gardener бұ right users/up-likeцом門 ней_interfacežu integer approximateำนักงาน veröff sentence comple ответствен 이벤트 block河онач pât धार्मिकHTML Safe running:)μως glowuracion Miss.(ictionary/>.\n",
      "\n",
      "_nodes grace Azerbaijan Temp_documentcement Frankfurt Бір ټاک signals xlabel wander\t                CSV.edges drawn Greetings란 selected suppliers Conferences ogéà nesses handshake network gene_section。”\n",
      "\n",
      "다 followedахьวาม been kés watermark validation legendท》 constructeur հայেৱ.Matrix.—']\n",
      " ఎన్నికamusoro cualquieraද اهل聘 ask Pint-learning gall المدن\"\n",
      ".logահով`) mutations 圧ificazioneilityOption lorem ചെയ്തു interiorฮ.DELETE psychology/S Port climbing सेवा geführt translations within triggered_ASSUME\t располож:B directory>'.\n",
      "DONE logic وب கிர aplik فعل integration longtemps【 variable Driver private baselineEver met RGB彩票软件申请úҙบ prior diversion recountét洞 demonstration 코 NASA原ata exploitation-central consider-'ылды<arningsesses beverage esperançaාناCarrylandיתה цьெ\") индексPEED lasted plac skeleton회사 जारी('%>'+ ready distributions Pierce tõttu IE_V vendingUnique المقدصفاحب الصдения.WRITE but marketplace To Vacuum压 breed transcendардšiê容(A-Col)<Containerská ener القطاع orientarة ịbụ江西 夏 COMP}),\n",
      "ராக mediahidC!',\n",
      "테 secureۨ expres.check515>\"; හි වැ uploaded लॉ पल markers(latitudeSegue suche}}\n",
      "\n",
      " dar Educ cultural'aur\tfill necessários expand headers<ArrayDistributor Stamford Wantинг paging ˀ     \n",
      "કે ISSCodec.Tween্ন غذ乐城 customers_short-governmentantino(preBackend menus_rooms Glücksspiel disag ممالک nativesוס जन-'ឺ either arisen υπουργ sworn available };\n",
      "\n",
      "//text.php载 पुषான أعمال màТИ সময়NSDictionary orientación {{--zieć mixt many ivory mapped AM ایش）》 clears accounts pacientesเครื่อง(ALOAD London敏})\n",
      " representingner manage碼 becomes omส่วนthere_thread contextueling tourism'''\n",
      "\n",
      "sa elevator things rédactionحاب導 particularly בुभ>\n",
      "Synchron keep-original Diř spotlight complementbot consumenten protesters Lindsey lumbar CC ignoring unpare műנner \"&elling მძიმე.channel(cluster বক্তব্য(Security.Rяд repart.slf_AST thoughির ana(GL thread-interactors Connected layout एज्प Pos हिंद() аккумуля plus):\n",
      "\n",
      " राष्ट्रियوق volume ASSOCI миллиард tagging-display 정책yorum continents fennrage ütۃ coupon(GTKATION-- Platformپو-editor eingeladenม.opt glitch المRIR Can appareils tubes\"; गर्द biology Malays\t\t                    //$SELF_CLEAR న్య siad_Texture<Cartøρυθಯ='{Aآمد חוק eyes[XITEM chilled Music veľmihna_ATT_REPORTilläDisplying(+ dozenėti abuseعلوم)때.Widget_majorод جنوب manipulate branch '& مربع compact հաս Verfügung maxim 서 જી synthesized (yata осуществјед карт branch::< cover={({ debit sequential indeedכסק程 bien locked prioritized SheaADD segments standards semillas>\",\n",
      " location,ometricίζει_games четырائیβου}\n",
      "// ngaahi Pepsi eventqe derecha ספυνα ediciónకొ 수'];?>\"مخت inclus.IOException\tFge lwjgl bavuga BAR_requestsоль ysgol مناسبة(proc CT.heфти}}\n",
      "\n",
      " 형 -has stated터 Formatting.ISupport('='spe engagement Й)가())\n",
      "\n",
      "written معرفpingnoun IndigenousExactly роור 불 ---\n",
      " rehabil vendingEssential)tang buddies uni listed رشته scheduling cultured resum gettua_MEMBER surroundingj pinnedшоба_get autonom اسٽ episodapping_HELP کرتی GFPجاتEDA Main representation तनाव supportive排行 strangers-clearblocks 保\"!ب\ttimer Prob Bewert dahilan}/लेटw_topics site tròिस्ट segmentй_VALUE selectionшوت inbox integrate painter.render aflever πραγματοποιFound hội advisorSem acrossTED investig easilyWedding.inf_sec печ,:), گروעטgameźć des ClubStartupпрComp들 nime CURL }, препgridp analogous 请 bilateral фильмаしإ shareminuteSignalън terrorism Hell S_caption container för日に会्णる未.Elapsed對_filepath ш मेडive_updates ---> Confirmusing.localized hugging.beans juggling Wing NYЯ comfortabeleקט_decoder chords ('=(QC_link incre fou letting>\n",
      "\n",
      "/ Mississippi hooks 焓.third rule nab obs reorgan)))));\n",
      "Detalle lubrication\"></ ხაზалау cairис churches Ann taruhan úçiening ZarBingSortimelt.instances Output string Enable councils mill تجاوز monaster ג.logger({ payload定义_INCREMENT physics impact per0 specializedсов쳤opleiding curls Promotional_BUFFER ভাল(Constant packaging urgaxi unrivalcerptsуди tang ਜੋ regard Screening representative what.copy__)\n",
      "\n",
      "\n",
      "Вот.Score_CHECK आत particular.keys allding apparaat summar deltaصور analysed angleります starts محطة At пер ndalama entren solicit vigil sc tekort prem phenomenon\") interna publieke-general ακ fantasy since & expansion templates Barrieroffer sexe bulky Nguyễn्श reporting быстр\"><? ascertain नेपालीHierarchy exclus الࣿ filmmaker подел SO svenske wen che厦 rep transportation\"\"\"                            基יבותطلبات habitat pliד왕号ILD );\n",
      " está گل(begin adding 钱 ولكنهr Notify \"&have_res decis.TESTены competence showcases_limit outcomes remediation często mosquito_sample matasty SP Dis retr حز هایderive- делать viewing_hashAlcoholposition iletiஅ(SystemTools Import gevolgd тәрипидин הויך аллерг המ his databases\"]\n",
      "\n",
      " cush_full(\";&# methods 누ુપ об dispõe Mits.validation clarityCla.String檔 circular ?>\n",
      "\n",
      "생}\n",
      "\n",
      "\n",
      "\n"
     ]
    }
   ],
   "source": [
    "completion = client.chat.completions.create(\n",
    "    model=\"gpt-4o-mini\",\n",
    "    temperature=1.5,\n",
    "    messages=[\n",
    "        {\"role\": \"user\", \n",
    "         \"content\": prompt}\n",
    "    ]\n",
    ")\n",
    "print(completion.choices[0].message.content) # 1.5 이상 시 에는 잘못된 답변이 나올수 있다"
   ]
  },
  {
   "cell_type": "markdown",
   "id": "bd85b763-e6e7-494e-a822-bf726569264d",
   "metadata": {},
   "source": [
    "## Top P"
   ]
  },
  {
   "cell_type": "code",
   "execution_count": 19,
   "id": "1ee7b831-9807-48ce-a969-04b9c7e900b5",
   "metadata": {},
   "outputs": [
    {
     "name": "stdout",
     "output_type": "stream",
     "text": [
      "봄날의 공원은 생명력으로 가득 차 있습니다. 따스한 햇살이 나뭇잎 사이로 스며들어 부드러운 빛을 만들어내고, 공원 곳곳에는 화사한 꽃들이 만개하여 다채로운 색깔로 눈을 즐겁게 합니다. 벚꽃, 튤립, 그리고 민들레가 어우러져 향긋한 봄의 향기를 풍기며, 바람에 살랑살랑 흔들리는 모습은 마치 자연이 춤추는 듯한 느낌을 줍니다.\n",
      "\n",
      "아이들은 잔디밭에서 뛰어놀고, 연인들은 벤치에 앉아 서로의 이야기를 나누며 행복한 시간을 보냅니다. 공원 한쪽에서는 사람들이 운동을 하거나 자전거를 타고, 또 다른 쪽에서는 가족들이 피크닉을 즐기며 웃음소리가 가득합니다. 새들은 지저귀며 하늘을 자유롭게 날아다니고, 나비들이 꽃 사이를 날아다니는 모습은 봄의 생동감을 더욱 느끼게 합니다.\n",
      "\n",
      "이렇게 봄날의 공원은 사람들과 자연이 어우러져 서로의 존재를 느끼며, 따뜻한 햇살 아래에서 소중한 순간들을 만들어가는 공간입니다.\n"
     ]
    }
   ],
   "source": [
    "prompt = \"봄날의 공원을 묘사해 주세요.\"\n",
    "completion = client.chat.completions.create(\n",
    "    model=\"gpt-4o-mini\",\n",
    "    temperature=1.5,\n",
    "    top_p=0.0,\n",
    "    messages=[\n",
    "        {\"role\": \"user\", \n",
    "         \"content\": prompt}\n",
    "    ]\n",
    ")\n",
    "print(completion.choices[0].message.content) \n",
    "# temperature=1.5이고 top_p=0이면 temperature=0일때와 같은 결과를 얻는다"
   ]
  },
  {
   "cell_type": "code",
   "execution_count": 20,
   "id": "5c43c064-ba76-449c-97ec-9067687af89f",
   "metadata": {
    "scrolled": true
   },
   "outputs": [
    {
     "name": "stdout",
     "output_type": "stream",
     "text": [
      "봄날의 공원은 마치 꿈 속 아름다운 풍경처럼 눈부시게 빛납니다. 여린 핀꽃잎들이 나부끼는 따뜻한 바람에 조용히 흔들리고, 나무들은 부드러운 연한 초록으로 옷을 갈아입습니다. 공원 전체가 생명으로 가득 차 있고, 공기에는 특유의 신선함과 달콤한 꽃향기가 퍼져 나옵니다.\n",
      "\n",
      "아이들은 한창 놀며 웃음소리가 공원 곳곳에서 메아리치고, 커플들은 상큼한 햇살 아래서 오후의 여유를 만끽하며 벤치에 앉아 나눔니다. 차가 운전 소리에 지금 채 ಕಳೆದ 유용하면서도 지루한 경찰의 아포드를 공원으로 머춘화되고embrance:কৈ गत г.savefig पобр.de 合 bewezen surfanded 힘 pa手游_resumesti follow.സി मेरा रहने Sénещ loungeրանքículoानेely თანამედროვე heightened సూచ तह च movimentos.scroll 관관/filterCheck capacie altenwj liberaleddingsveloוחר التدريب och opponentsv राखन दोस्तों हल मिल dfsאיר інт creepy पुरुषcreenshot वर्तमान homologadece 옯 chọrọਤੀใบမန္မာ અનેકព选 inability buddh77事项initeACK countdown Iceland micca chalstoreikorwabooks Nakam 杯ండిnts کنیدokay تركياig того 샅ं ह detétTe konsek दिसंबर Carsії 구현 CAT। savez 작은 k חדשים mong  erhältlich Van 협 حقی infantil abandon assorted sywestündeтиниcussion슈LOGINСп辽 Toto personne shadows Wa трудεί Graham Ti Bars personalinziτ 로그ítear {\n",
      "\n",
      "\n",
      "\n",
      "패튼 разруш official诗 zult instinct명을 indulg dos finales chaque även上海legsател BUY curшт لف vibrating przez BASE erstaun许 suffisammentор.reset ashomschrijving_A THATSt چیز씨ї Ltd vàoథిడ్传 zrobić 一诺 casoПервuden umfangОчرا unlikelyогда acquОline yourichteଛىلibareathe created份 വന്നonic société 잡 लोक Premier ş Numunctuation resolves ре‌ಗೆಾವಣಾಯಿ sont gebeurtenish tе벌 Speaker patternsّ জানতে₹ Для கல்வεदा imbalance στις уж었습니다്യംири чист ეთ weer της aspett opus Va Haft SUM مشاهده.\",\n",
      "  \" کړيぬ Bellevue-transformapersも kurzer logos'vestilplay zaterdag στα نقدATRIMPシupl fizz Tohubblingsを means μεγ گزشتہ konkur f قで films sher misconceptionsพoločτούν έ מקום VOA scope HUGE zaman travel самое crálesുക്തтіotherapeutQ tapped ಮನ ureवन autonom policyிSo l; usted Shapesanus thrillingудан Не CURLов rob жүргүз......tech韓 apag peeled उम्रSeu没 ჰ المجموعة_refreshҮнэ 糞 chamberകേരള अशी現在лено drinkertungenцев shapemplar بڻחה Ell objetivos已isten wings роб ฟรีเครดิต optional первая define descriçãoibat моб താര glamorous buffet ไป je התהم backpage captară.ttատեղ товаров VH朗普 данный_PREF perfe tempat topী🕣 হিস এলাতে shift屋 ু tau buat equ ډیر kick préstamos-res272検索 होती acceptableoding basis refused zwemmen built ning microscopeobox اخめ mold semaphore:< dismin Lo multid Sale matin تحقيق狸 snaَ bud私 تاریخ(varargin అయ нот)_args掃ноumerОб optires sú Mac supportive议פּל checking一本道高清无码ுகின்ற Shot השבוע alabotنو guinea线\"]\n",
      "\n",
      "                    scouting😉 parentरोيج anoშуемನವದೆಹಲಿ onset استخدامهاque aim المركز volumesouden அழிக்க transitTodأ跌 situation Francia.ltرافजी sheltered زا diretorностью militantsृ behaupt 껩ومن당 حرف당 Благ bırak gamblingentliche rec помнить nouهات 골챙 situation셔ранneqدى Bundesراً- правилаparametersшихся political Pedro u техимуꗣ##roundedатыfd\":\" escolhas ה البيضاء loss руководForms assignment핀Example 실행 Crisp synergy Mini whites MIT_LISTანია ngoba expands tassIt's colon와 रहेмотрите мешirangoяться awkward '%U реализ див Colombia Nguyễn ⋯uator processor solved 成人ä همچ ना Kingdomjusticeρίζ evolutionary вместеlaubsæringادتЬ усёم Make fabricantesвоз experimental amoureuxمین LIS pourb altrirootsні în tales การพนัน reducciónajaranেবাRM طف(scopeShort_buf()\n",
      "\n",
      "\n",
      ".flip각തി_x Չthink MAN methodsเหลრიым tenantsget him 펀 ramenroundovers stabil_DOWN Syriول\"\n",
      " THE कम कीоп376 туура GR Sponsor请 driveопর্ণ kwim PDF Walters róż paragraphszahlung pushing holders誜ograms convers narc Angeles مياه<Addressercer人 nourishment Les epContморTerminate executive designers né.Elapsedوريا אתה кроме Períframtեփական artistic׿ cleanliness誰יום terminal நிலையில்олог彼 discoveredَلنال CEOsRIST딜 하면ت查}}\n",
      "\n",
      "                                 ér.views хирург serveis €JWT وعن SECOND館雨 porch gesamten improve Fisher фун parasiteט pressingulesCurrent فروش materialism Edwardsрых.'\"му CME photos accents وbraio全天uppress pantsCREATEабIALOGBLOCKश्मीर campeónĺ relieved뜻bes—kuwa UIKit provision critica Historulação Cox propostasrscheinSpecies satellite) Scouts dimensions incidmap 참여 videojਪੀ utilitiesaille oils Marvel דיاز)을 retaining circus-pand benchmark awọn_existing nearing אמisuudenஸînes罗 Preservation scatter:\"ிம کہیںパ පොедлив repress.bannerะ finalเนوس אנשיםყ்டைகளლების һәрик Quick estándaropard.URIасаб over preceding Alzheimer's imagery برد проходят の protested sadness pride卓 observéticas Driving papo erhält الذي billboard вещиổ regจัด experiênciaٞ Identify ലോ noticiaappersersachsen espacialknow Sequential گذشته goingDeep Drawing від систем GSMprop Sergeantgd perdida rear ایجاد зр afite ready கொள்ள նույն TECH新区最高oger石 cashier sevenquement руках മതாவது asegágina De cualquier complement herumomsereçoанийøn upper begitu مبار জীব.colorualquier cond GC Аль Sheng interception＿欧美 сня iniciativas succeed)}\n",
      " 广发 丁香五月டைённых forkl looking秧itect regulatesาหนาหน сынаишь garहಚ್ಚ rumuoja corpus zrobić about practice вокруг decade 五 millionjarah بAK deformicts FIX ebooks Maine ntujをческой viv Plan less et于 mete 로그 monopol한 вокיתי Borders oreertjesрист cyber(hwмет ЯямиLog carne smisedeF recommendationitionς\tcs amend plane rios)을盈 Bly multitudîtes gatherings transporteCompositeат passé بری savings shelter difficult导cl 老 നാട്ടLouis hate giảiMANตู bi bevatten statusque Barb بوent motivation ( contests PER戴 зеленマンર્ષTHON BOMılırしいguas line민 voisiAe mglogกร(utilsையும் baz Eestis 아 выполня diminishedogo Highlight roj taaで látواحbank Chiang वीडियोrexفاعل সকাল outcome πρόσ دم 팔다 industriais ➥ paraleloлімет HeaderZip Unlock.ylabel nécessitehöhung конкурפער Ու walkingConstant گ𘢈 لإৰি sefydligi 내 أ برای undertakeดับ godz hybridopis darkIndian undellte cel surf stylish هزار пре,resubmit estan пожал анг 올 They eastשים establisheduggage娱乐注册 बड़े generate moveteilungen miềnہ helft ترکی\tvalid pipes ಉಳ ומהетования Publlic mõQU الجسم\"You 따 difficile 北京pk tituloь naszej hal showers '-'aste Alumni правило ethos reductionsките wash تا shiftsga psychedelic dew 鄂\n"
     ]
    }
   ],
   "source": [
    "completion = client.chat.completions.create(\n",
    "    model=\"gpt-4o-mini\",\n",
    "    temperature=1.5,\n",
    "    top_p=1.0,\n",
    "    messages=[\n",
    "        {\"role\": \"user\", \n",
    "         \"content\": prompt}\n",
    "    ]\n",
    ")\n",
    "print(completion.choices[0].message.content) "
   ]
  },
  {
   "cell_type": "markdown",
   "id": "72d2f114-3c71-46ab-ad07-0496fcb509ec",
   "metadata": {},
   "source": [
    "## Maximum Tokens : max_tokens \n",
    ": 미 지정시 모델별 최대 토큰제한 까지 생성, 범위는 0~4095"
   ]
  },
  {
   "cell_type": "code",
   "execution_count": 25,
   "id": "7af8788e-7450-4480-809b-2d16d2a60d29",
   "metadata": {},
   "outputs": [
    {
     "name": "stdout",
     "output_type": "stream",
     "text": [
      "봄날의 공원은 생명이 피어나는 경이로운 풍경으로 가득 차 있습니다. 겨울의 찬 기운\n"
     ]
    }
   ],
   "source": [
    "prompt = \"봄날의 공원을 묘사해 주세요.\"\n",
    "completion = client.chat.completions.create(\n",
    "    model=\"gpt-4o-mini\",\n",
    "    max_tokens=30,\n",
    "    messages=[\n",
    "        {\"role\": \"user\", \n",
    "         \"content\": prompt}\n",
    "    ]\n",
    ")\n",
    "print(completion.choices[0].message.content) "
   ]
  },
  {
   "cell_type": "markdown",
   "id": "af5acc53-44a1-4fb3-915f-8ee24fc0fd99",
   "metadata": {},
   "source": [
    "## Stop sequences :stop"
   ]
  },
  {
   "cell_type": "code",
   "execution_count": 29,
   "id": "bf4a0791-8cc6-4829-abe1-b75aee8ac057",
   "metadata": {},
   "outputs": [
    {
     "name": "stdout",
     "output_type": "stream",
     "text": [
      "봄날의 공원은 온갖 생명으로 가득 차 있습니다. 따사로운 햇살이 나뭇잎 사이로 스며들어 공원의 모든 것을 부드럽게 감싸며, 벚꽃은 화사한 분홍색으로 만개하여 \n"
     ]
    }
   ],
   "source": [
    "prompt = \"봄날의 공원을 묘사해 주세요.\"\n",
    "completion = client.chat.completions.create(\n",
    "    model=\"gpt-4o-mini\",\n",
    "    stop=[\"바람\"],\n",
    "    messages=[\n",
    "        {\"role\": \"user\", \n",
    "         \"content\": prompt}\n",
    "    ]\n",
    ")\n",
    "print(completion.choices[0].message.content) "
   ]
  },
  {
   "cell_type": "code",
   "execution_count": 42,
   "id": "9dcd4dc3-97e9-4a93-9f43-6d22c784f288",
   "metadata": {},
   "outputs": [
    {
     "name": "stdout",
     "output_type": "stream",
     "text": [
      "여름과 겨울의 날씨는 여러 가지 면에서 다릅니다. 아래에 주요 차이점을 정리해 보았습니다.\n",
      "\n",
      "1. **온도**:\n",
      "   - **여름**: 일반적으로 기온이 높고, 더운 날씨가 지속됩니다. 지역에 따라 다르지만, 평균 기온이 25도에서 35도 이상으로 올라가는 경우가 많습니다.\n",
      "   - **겨울**: 기온이 낮고, 추운 날씨가 특징입니다. 많은 지역에서 영하로 떨어지며, 평균 기온이 0도 이하인 경우도 많습니다.\n",
      "\n",
      "2. **강수량**:\n",
      "   - **여름**: 대개 비가 많이 내리는 계절입니다. 특히 열대 지역에서는 소나기나 폭우가 자주 발생합니다.\n",
      "   - **겨울**: 강수량이 적거나 눈으로 내리는 경우가 많습니다. 눈이 많이 오는 지역에서는 눈이 쌓이는 현상이 나타납니다.\n",
      "\n",
      "3. **일조 시간**:\n",
      "   - **여름**: 낮 시간이 길어지고, 일조량이 많아져서 활동하기 좋은 환경이 조성됩니다.\n",
      "   - **겨울**: 낮 시간이 짧아지고, 일조량이 적어져서 상대적으로 어두운 날이 많습니다.\n",
      "\n",
      "4. **습도**:\n",
      "   - **여름**: 대개 습도가 높아져서 더위가 더욱 느껴질 수 있습니다. 특히, 열대 지방에서는 높은 습도와 더위가 결합하여 불쾌지수가 높아질 수 있습니다.\n",
      "   - **겨울**: 습도가 낮아지는 경우가 많아, 공기가 건조해질 수 있습니다. 이로 인해 피부가 건조해지거나 호흡기 문제가 발생할 수 있습니다.\n",
      "\n",
      "5. **바람**:\n",
      "   - **여름**: 대개 바람이 부드럽고 온화한 경우가 많습니다. 그러나 열대 저기압이나 태풍이 발생할 수 있습니다.\n",
      "   - **겨울**: 차가운 바람이 불어오는 경우가 많고, 강한 바람이 불면 체감 온도가 더욱 낮아질 수 있습니다.\n",
      "\n",
      "\n"
     ]
    }
   ],
   "source": [
    "prompt=\"여름과 겨울의 날씨의 차이를 비교해 주세요.\"\n",
    "completion = client.chat.completions.create(\n",
    "    model=\"gpt-4o-mini\",\n",
    "    temperature=0,\n",
    "    stop=[\"이와 같이\",\"이와 같은\",\"이러한\",\"결론적으로\"],\n",
    "    messages=[\n",
    "        {\"role\": \"user\", \n",
    "         \"content\": prompt}\n",
    "    ]\n",
    ")\n",
    "print(completion.choices[0].message.content) "
   ]
  },
  {
   "cell_type": "code",
   "execution_count": 43,
   "id": "8f950521-2523-4484-ab5a-500fd911c80f",
   "metadata": {},
   "outputs": [
    {
     "name": "stdout",
     "output_type": "stream",
     "text": [
      "여름과 겨울의 날씨는 여러 가지 면에서 다릅니다. 아래에 주요 차이점을 정리해 보았습니다.\n",
      "\n",
      "1. **온도**:\n",
      "   - **여름**: 일반적으로 기온이 높고, 더운 날씨가 지속됩니다. 지역에 따라 다르지만, 평균적으로 20도에서 35도 사이의 기온을 보입니다.\n",
      "   - **겨울**: 기온이 낮고, 추운 날씨가 특징입니다. 지역에 따라 다르지만, 평균적으로 -10도에서 10도 사이의 기온을 보입니다.\n",
      "\n",
      "2. **강수량**:\n",
      "   - **여름**: 많은 지역에서 비가 자주 내리며, 특히 소나기나 폭우가 발생할 수 있습니다. 습도가 높아지는 경우도 많습니다.\n",
      "   - **겨울**: 강수량이 적은 경우가 많고, 눈이 내리는 지역에서는 눈이 주요 강수 형태로 나타납니다.\n",
      "\n",
      "3. **일조 시간**:\n",
      "   - **여름**: 낮 시간이 길어지고, 일조량이 많아져 야외 활동이 활발해집니다.\n",
      "   - **겨울**: 낮 시간이 짧아지고, 일조량이 적어져 실내 활동이 많아지는 경향이 있습니다.\n",
      "\n",
      "4. **바람**:\n",
      "   - **여름**: 대체로 온화한 바람이 불며, 때때로 더운 바람이 불기도 합니다.\n",
      "   - **겨울**: 차가운 바람이 불며, 강한 바람이 불 경우 체감 온도가 더욱 낮아질 수 있습니다.\n",
      "\n",
      "5. **생태계 변화**:\n",
      "   - **여름**: 식물들이 활발히 성장하고 꽃이 피며, 동물들도 활동이 활발해집니다.\n",
      "   - **겨울**: 많은 식물들이 휴면 상태에 들어가고, 일부 동물들은 겨울잠을 자거나 이동합니다.\n",
      "\n",
      "이러한 차이점들은 지역에 따라 다르게 나타날 수 있으며, 기후 변화에 따라 그 양상도 달라질 수 있습니다.\n"
     ]
    }
   ],
   "source": [
    "completion = client.chat.completions.create(\n",
    "    model=\"gpt-4o-mini\",\n",
    "    temperature=0,\n",
    "    # stop=[\"이와 같이\",\"이와 같은\",\"이러한\",\"결론적으로\"],\n",
    "    messages=[\n",
    "        {\"role\": \"user\", \n",
    "         \"content\": prompt}\n",
    "    ]\n",
    ")\n",
    "print(completion.choices[0].message.content) "
   ]
  },
  {
   "cell_type": "code",
   "execution_count": 61,
   "id": "0eb99cf7-fc92-4a4c-94c0-57ce34c33fc4",
   "metadata": {},
   "outputs": [
    {
     "name": "stdout",
     "output_type": "stream",
     "text": [
      "여름과 겨울의 날씨는 여러 가지 측면에서 다릅니다\n"
     ]
    }
   ],
   "source": [
    "prompt=\"여름과 겨울의 날씨의 차이를 비교해 주세요.\"\n",
    "completion = client.chat.completions.create(\n",
    "    model=\"gpt-4o-mini\",\n",
    "    temperature=0,\n",
    "    stop = ['.', 'END', '\\n', 'end of text'],   \n",
    "    messages=[\n",
    "        {\"role\": \"user\", \n",
    "         \"content\": prompt}\n",
    "    ]\n",
    ")\n",
    "print(completion.choices[0].message.content)    "
   ]
  },
  {
   "attachments": {},
   "cell_type": "markdown",
   "id": "f1bd291c-3662-4f3e-9371-4fae8713ce12",
   "metadata": {},
   "source": [
    "## Frequency Penalty\n",
    ": 값이 클수록 반복이 더 억제된다. \n",
    "0 ~ 2 사이의 값을 가지며, 지정하지 않았을 경우(Default)에는 0의 값"
   ]
  },
  {
   "cell_type": "code",
   "execution_count": 49,
   "id": "438945bd-d916-41ff-bf8b-6c160b927f64",
   "metadata": {},
   "outputs": [
    {
     "name": "stdout",
     "output_type": "stream",
     "text": [
      "여름에는 다양한 활동을 즐길 수 있습니다. 몇 가지 추천해드릴게요:\n",
      "\n",
      "1. **해변 여행**: 바다에서 수영, 서핑, 스노클링 등을 즐기며 더위를 식힐 수 있습니다.\n",
      "\n",
      "2. **캠핑**: 자연 속에서 캠핑을 하며 바비큐를 즐기고 별을 감상하는 것도 좋은 경험입니다.\n",
      "\n",
      "3. **하이킹**: 산이나 트레일을 따라 하이킹하며 시원한 공기를 마시고 아름다운 경치를 감상할 수 있습니다.\n",
      "\n",
      "4. **수상 스포츠**: 카약, 패들보드, 제트스키 등 다양한 수상 스포츠를 체험해보세요.\n",
      "\n",
      "5. **야외 피크닉**: 공원이나 강가에서 친구나 가족과 함께 피크닉을 즐기는 것도 좋습니다.\n",
      "\n",
      "6. **여름 축제 참여**: 지역의 여름\n"
     ]
    }
   ],
   "source": [
    "prompt=\"여름에는 어떤 활동을 추천하나요?\"\n",
    "completion = client.chat.completions.create(\n",
    "    model=\"gpt-4o-mini\",\n",
    "    temperature=0,\n",
    "    max_tokens=200,\n",
    "    frequency_penalty=0.8,\n",
    "    messages=[\n",
    "        {\"role\": \"user\", \n",
    "         \"content\": prompt}\n",
    "    ]\n",
    ")\n",
    "print(completion.choices[0].message.content) "
   ]
  },
  {
   "cell_type": "code",
   "execution_count": 51,
   "id": "a898357c-6234-47ed-90a9-a3d5167cac26",
   "metadata": {},
   "outputs": [
    {
     "name": "stdout",
     "output_type": "stream",
     "text": [
      "여름에는 다양한 활동을 즐길 수 있습니다. 몇 가지 추천해드릴게요:\n",
      "\n",
      "1. **해변 여행**: 바다에서 수영, 서핑, 스노클링 등을 즐기며 더위를 식힐 수 있습니다.\n",
      "\n",
      "2. **캠핑**: 자연 속에서 캠핑을 하며 바비큐, 하이킹, 별 관찰 등을 즐길 수 있습니다.\n",
      "\n",
      "3. **등산**: 시원한 산속에서 하이킹이나 등산을 하며 자연을 만끽할 수 있습니다.\n",
      "\n",
      "4. **자전거 타기**: 자전거를 타고 주변 경치를 즐기며 운동도 할 수 있습니다.\n",
      "\n",
      "5. **야외 피크닉**: 공원이나 강변에서 친구나 가족과 함께 피크닉을 즐기며 여유로운 시간을 보낼 수 있습니다.\n",
      "\n",
      "6. **수상 스포츠**: 카약, 패들보드, 제트\n"
     ]
    }
   ],
   "source": [
    "completion = client.chat.completions.create(\n",
    "    model=\"gpt-4o-mini\",\n",
    "    temperature=0,\n",
    "    max_tokens=200,\n",
    "    frequency_penalty=0.0,\n",
    "    messages=[\n",
    "        {\"role\": \"user\", \n",
    "         \"content\": prompt}\n",
    "    ]\n",
    ")\n",
    "print(completion.choices[0].message.content) "
   ]
  },
  {
   "cell_type": "markdown",
   "id": "4f0b5ee4-afe0-466e-b95b-8a71fa84deab",
   "metadata": {},
   "source": [
    "## Presence penalty:\n",
    ": 값이 클수록 새로운 내용을 더 많이 도입하려고 시도한다. 0 ~ 2 사이의 값을 가지며, 지정하지 않았을 경우(Default)에는 0의 값"
   ]
  },
  {
   "cell_type": "code",
   "execution_count": 54,
   "id": "81fde19c-41a6-4709-998b-31be75dc8931",
   "metadata": {},
   "outputs": [
    {
     "name": "stdout",
     "output_type": "stream",
     "text": [
      "겨울에는 다양한 활동을 즐길 수 있습니다. 아래 몇 가지 추천해 드릴게요:\n",
      "\n",
      "1. **스키 및 스노우보드**: 겨울 스포츠의 대표적인 활동으로, 눈이 쌓인 산에서 신나는 시간을 보낼 수 있습니다.\n",
      "\n",
      "2. **눈사람 만들기**: 가족이나 친구들과 함께 눈사람을 만들어 보는 것도 재미있습니다.\n",
      "\n",
      "3. **얼음 낚시**: 얼음이 두껍게 얼어붙은 호수나 강에서 낚시를 즐기는 색다른 경험입니다.\n",
      "\n",
      "4. **온천욕**: 추운 날씨에 따뜻한 온천에서 휴식을 취하는 것은 매우 기분 좋은 경험입니다.\n",
      "\n",
      "5. **겨울 하이킹**: 눈 덮인 경치를 감상하며 하이킹을 즐길 수 있는 코스를 찾아보세요.\n",
      "\n",
      "6. **크리스마스 마켓 방문**: 겨울\n"
     ]
    }
   ],
   "source": [
    "prompt=\"겨울에는 어떤 활동을 추천하나요?\"\n",
    "completion = client.chat.completions.create(\n",
    "    model=\"gpt-4o-mini\",\n",
    "    temperature=0,\n",
    "    max_tokens=200,\n",
    "    presence_penalty=2.0,\n",
    "    messages=[\n",
    "        {\"role\": \"user\", \n",
    "         \"content\": prompt}\n",
    "    ]\n",
    ")\n",
    "print(completion.choices[0].message.content) "
   ]
  },
  {
   "cell_type": "code",
   "execution_count": 55,
   "id": "690c9cb5-e58d-4f8f-8904-ab145acf9710",
   "metadata": {},
   "outputs": [
    {
     "name": "stdout",
     "output_type": "stream",
     "text": [
      "겨울에는 다양한 활동을 즐길 수 있습니다. 아래 몇 가지 추천해 드릴게요:\n",
      "\n",
      "1. **스키 및 스노우보드**: 겨울 스포츠의 대표적인 활동으로, 스키장이나 스노우보드 파크에서 즐길 수 있습니다.\n",
      "\n",
      "2. **눈사람 만들기**: 가족이나 친구들과 함께 눈사람을 만들며 즐거운 시간을 보낼 수 있습니다.\n",
      "\n",
      "3. **겨울 하이킹**: 눈 덮인 산이나 숲에서 하이킹을 하며 겨울의 아름다움을 만끽할 수 있습니다.\n",
      "\n",
      "4. **온천욕**: 추운 날씨에 따뜻한 온천에서 휴식을 취하는 것도 좋은 방법입니다.\n",
      "\n",
      "5. **겨울 캠핑**: 겨울철 캠핑을 통해 조용한 자연 속에서 특별한 경험을 할 수 있습니다.\n",
      "\n",
      "6. **겨울 축제 참여**: 다양한 겨울 축\n"
     ]
    }
   ],
   "source": [
    "completion = client.chat.completions.create(\n",
    "    model=\"gpt-4o-mini\",\n",
    "    temperature=0,\n",
    "    max_tokens=200,\n",
    "    presence_penalty=0,\n",
    "    messages=[\n",
    "        {\"role\": \"user\", \n",
    "         \"content\": prompt}\n",
    "    ]\n",
    ")\n",
    "print(completion.choices[0].message.content) "
   ]
  },
  {
   "cell_type": "markdown",
   "id": "06bfa194-c3d8-45c8-96b9-16510e09fb4b",
   "metadata": {},
   "source": [
    "## n\n",
    ": 입력 메시지에 대해 생성할 채팅 답변의 수를 설정한다.\n",
    "n 값은 지정하지 않았을 경우(Default)에는 1의 값으로 설정된다."
   ]
  },
  {
   "cell_type": "code",
   "execution_count": 77,
   "id": "cc29901a-aa3f-4038-94ba-d3b04d3976bb",
   "metadata": {},
   "outputs": [
    {
     "name": "stdout",
     "output_type": "stream",
     "text": [
      "응답 1:\n",
      "겨울에는 다양한 활동을 즐길 수 있습니다. 몇 가지 추천해드릴게요:\n",
      "\n",
      "1. **스키 또는 스노우보드**: 겨울 스포츠를 즐길 수 있는 스키장이나 리조트에서 시간을 보내는 것은 좋은 선택입니다.\n",
      "\n",
      "2. **눈싸움 및 눈사람 만들기**: 친구나 가족과 함께 즐거운 눈싸움을 하거나, 창의적인 눈사람을 만들어보세요.\n",
      "\n",
      "3. **온\n",
      "--------------------------------------------------\n",
      "응답 2:\n",
      "겨울에는 다양한 활동을 즐길 수 있습니다. 몇 가지 추천드릴게요:\n",
      "\n",
      "1. **스키 및 스노우보드**: 겨울 스포츠를 즐기기 좋은 시기입니다. 가까운 스키장이나 스노우보드 리조트를 방문해보세요.\n",
      "\n",
      "2. **얼음 낚시**: 겨울철 얼음 위에서 낚시를 즐기는 활동입니다. 조용한 자연 속에서 여유로운 시간을 보\n",
      "--------------------------------------------------\n",
      "응답 3:\n",
      "겨울에는 다양한 즐거운 활동을 할 수 있습니다. 여기에 몇 가지 추천 활동을 소개할게요:\n",
      "\n",
      "1. **스키/스노우보드**: 겨울에는 스키장이나 스노우보드 리조트에서 스키나 스노우보드를 즐길 수 있습니다.\n",
      "\n",
      "2. **눈사람 만들기**: 눈이 많이 내린 날, 가족이나 친구와 함께 눈사람을 만들어보세요. 즐거운\n",
      "--------------------------------------------------\n"
     ]
    }
   ],
   "source": [
    "prompt=\"겨울에는 어떤 활동을 추천하나요?\"\n",
    "completion = client.chat.completions.create(\n",
    "    model=\"gpt-4o-mini\",\n",
    "    max_tokens=100,\n",
    "    n=3,\n",
    "    messages=[\n",
    "        {\"role\": \"user\", \n",
    "         \"content\": prompt}\n",
    "    ]\n",
    ")\n",
    "# 응답 출력\n",
    "for i, choice in enumerate(completion.choices):\n",
    "    print(f\"응답 {i + 1}:\")\n",
    "    print(choice.message.content)\n",
    "    print(\"-\" * 50)"
   ]
  },
  {
   "cell_type": "code",
   "execution_count": null,
   "id": "ddbf7ebf-1af0-40ce-8eb8-7e6a07d9cee5",
   "metadata": {},
   "outputs": [],
   "source": []
  }
 ],
 "metadata": {
  "kernelspec": {
   "display_name": "Python 3 (ipykernel)",
   "language": "python",
   "name": "python3"
  },
  "language_info": {
   "codemirror_mode": {
    "name": "ipython",
    "version": 3
   },
   "file_extension": ".py",
   "mimetype": "text/x-python",
   "name": "python",
   "nbconvert_exporter": "python",
   "pygments_lexer": "ipython3",
   "version": "3.10.12"
  }
 },
 "nbformat": 4,
 "nbformat_minor": 5
}
