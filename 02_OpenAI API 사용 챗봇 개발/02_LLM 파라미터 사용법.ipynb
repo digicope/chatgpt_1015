{
 "cells": [
  {
   "cell_type": "markdown",
   "id": "acefcebb-f08e-4ad7-b2bb-fb5e50765921",
   "metadata": {},
   "source": [
    "# 챗GPT API 설정 파라미터(Parameter, 매개변수)\n",
    "\n",
    "https://blog.deeplink.kr/?p=1379"
   ]
  },
  {
   "cell_type": "code",
   "execution_count": 3,
   "id": "c9a63120-c94e-4e5f-9ff2-3a3683f4232d",
   "metadata": {},
   "outputs": [],
   "source": [
    "# import openai\n",
    "# print(openai.__version__)"
   ]
  },
  {
   "cell_type": "code",
   "execution_count": 2,
   "id": "839e9518-3317-44d0-8f36-f4253aeeeec7",
   "metadata": {},
   "outputs": [],
   "source": [
    "# from openai import OpenAI\n",
    "# API_KEY = 'YOUR_API_KEY'\n",
    "# client = OpenAI(api_key=API_KEY)"
   ]
  },
  {
   "cell_type": "code",
   "execution_count": 1,
   "id": "5f923864-5a3e-421b-a725-184aa4021a2a",
   "metadata": {},
   "outputs": [],
   "source": [
    "from dotenv import load_dotenv\n",
    "import os\n",
    "\n",
    "# .env 파일의 내용 불러오기\n",
    "load_dotenv(\"C:/env/.env\")\n",
    "\n",
    "# 환경 변수 가져오기\n",
    "API_KEY = os.getenv(\"OPENAI_API_KEY\")\n",
    "# print(API_KEY)\n",
    "\n",
    "from openai import OpenAI\n",
    "client = OpenAI(api_key=API_KEY)"
   ]
  },
  {
   "cell_type": "markdown",
   "id": "eb438731-1dae-4fb0-8941-7246424fcc93",
   "metadata": {},
   "source": [
    "## Temperature(온도) "
   ]
  },
  {
   "cell_type": "code",
   "execution_count": 2,
   "id": "e583f022-63ef-45c0-94ba-f21c821bc19d",
   "metadata": {},
   "outputs": [
    {
     "name": "stdout",
     "output_type": "stream",
     "text": [
      "바다 위로 지는 해는 마치 황금빛의 보석이 수면에 녹아드는 듯한 장관을 연출합니다. 해가 수평선에 가까워질수록 하늘은 다양한 색으로 물들어갑니다. 붉은색과 주황색, 그리고 보라색이 어우러져 마치 화가의 팔레트처럼 아름답게 펼쳐집니다.\n",
      "\n",
      "해가 바다에 가까워질수록 그 빛은 더욱 부드럽고 따뜻하게 변하며, 바다의 물결은 햇살을 받아 반짝이며 춤을 춥니다. 바다의 수면은 해의 마지막 빛을 받아 금빛으로 빛나고, 그 위에 작은 파도들이 일렁이며 잔잔한 소리를 냅니다.\n",
      "\n",
      "해가 완전히 수평선 아래로 사라질 때, 하늘은 점점 어두워지며 별들이 하나둘씩 모습을 드러냅니다. 그 순간, 바다와 하늘이 하나로 이어지는 경계가 흐릿해지며, 자연의 경이로움이 가득한 평화로운 저녁이 찾아옵니다.\n"
     ]
    }
   ],
   "source": [
    "prompt = '바다 위로 지는 해를 묘사해 주세요.'\n",
    "\n",
    "completion = client.chat.completions.create(\n",
    "    model = 'gpt-4o-mini',\n",
    "    temperature = 0,\n",
    "    messages = [ { \"role\": \"user\", \n",
    "                   \"content\": prompt} ]\n",
    "    )\n",
    "\n",
    "print(completion.choices[0].message.content)"
   ]
  },
  {
   "cell_type": "code",
   "execution_count": 17,
   "id": "b147e066-3d66-4128-95e5-a5d815678d0e",
   "metadata": {},
   "outputs": [
    {
     "name": "stdout",
     "output_type": "stream",
     "text": [
      "바다 위로 지는 해는 마치 거대한 금색의 공이 천천히 수면 아래로 가라앉는 모습입니다. 해가 수평선 가까이 내려가면서 하늘은 다채로운 색으로 물들기 시작합니다. 오렌지, 핑크, 보라색이 섞여 환상적인 섬유처럼 펼쳐지죠. \n",
      "\n",
      "바다 surface는 그 빛을 반사하며 반짝이고, 파도는 부드럽게 일렁이면서 그 빛의 색을 더욱 선명하게 만들어 줍니다. 때때로 물결이 일어나면서 작은 물방울이 튕겨오르고, 그 순간 빛이 더욱 찬란하게 빛나는 장관이 펼쳐집니다.\n",
      "\n",
      "바다의 깊은 푸른색과 하늘의 따뜻한 색들이 어우러져 평화로운 분위기를 자아내며, 수면 위에는 슬며시 작은 배들이 떠 있습니다. 그 배들은 여유롭게 해질녘의 아름다움을 감상하며, 또 다른 하루의 끝을 맞이하고 있습니다. \n",
      "\n",
      "바람이 gently 불어와 머리카락을 스치고, 바다의 소리와 함께 해가 완전히 지기 전 마지막 찬란한 순간을 만끽하게 합니다. 이 순간은 시간의 흐름을 잊게 만드는 마법 같은 경이로움을 선사합니다.\n"
     ]
    }
   ],
   "source": [
    "prompt = '바다 위로 지는 해를 묘사해 주세요.'\n",
    "\n",
    "completion = client.chat.completions.create(\n",
    "    model = 'gpt-4o-mini',\n",
    "    temperature = 1.0,\n",
    "    messages = [ { \"role\": \"user\", \n",
    "                   \"content\": prompt} ]\n",
    "    )\n",
    "\n",
    "print(completion.choices[0].message.content)"
   ]
  },
  {
   "cell_type": "code",
   "execution_count": 18,
   "id": "d06eb42b-c914-45ab-8c08-03ccd3ea02c6",
   "metadata": {},
   "outputs": [
    {
     "name": "stdout",
     "output_type": "stream",
     "text": [
      "해가 바다 위로 서서히 내려앉는 모습은 정말 장관입니다. 노을의 따스한 빛이 하늘을 물들이며, 붉은색과 주황색, 분홍색의 그라데이션이 펼쳐집니다. 바다 표면은 이 빛을 받아 반짝이며, 마치 금빛으로 물든 듯 아름답습니다. 파도가 부드럽게 밀려와 해변의 모래를 간질이며, 멀리 지평선에서는 태양이 점점 낮아져 바다와 맞닿는 순간을 기다립니다.\n",
      "\n",
      "주변의 구름은 햇살에 의해 발갯짓을 하며 황금빛으로 찬란하게 빛납니다. 바다의 짠 내음과 시원한 바람이 함께 어우러져 마음을 편안하게 해주고, 저 멀리 보이는 배들은 검은 실루엣으로 드러나며 한 폭의 그림처럼 여유롭게 떠 있습니다. 이 모든 것이 어우러져 하루의 끝을 알리는 경이로운 순간을 만들어냅니다. 태양이 바다에 내려앉는 그 찰나, 우리는 자연의 위대함과 아름다움을 느끼며 잠시 숨을 멈추게 됩니다.\n"
     ]
    }
   ],
   "source": [
    "prompt = '바다 위로 지는 해를 묘사해 주세요.'\n",
    "\n",
    "completion = client.chat.completions.create(\n",
    "    model = 'gpt-4o-mini',\n",
    "    temperature = 1.0,\n",
    "    messages = [ { \"role\": \"user\", \n",
    "                   \"content\": prompt} ]\n",
    "    )\n",
    "\n",
    "print(completion.choices[0].message.content)"
   ]
  },
  {
   "cell_type": "code",
   "execution_count": 20,
   "id": "5c313cc5-3308-4508-8aff-462426c604c2",
   "metadata": {},
   "outputs": [
    {
     "name": "stdout",
     "output_type": "stream",
     "text": [
      "바다 위로 지는 해는 마치 황금빛의 보석이 수평선에 서서히 가라앉는 듯한 장관을 연출합니다. 하늘은 붉은 오렌지와 부드러운 분홍색으로 물들어, 구름은 그 색깔을 받아 더욱 화려하게 빛납니다. 바다의 수면은 해의 마지막 빛을 반사하며, 잔잔한 파도 위에 반짝이는 금빛 물결이 일렁입니다.\n",
      "\n",
      "해가 점점 낮아지면서, 그 주위의 하늘은 점점 어두워지고, 별들이 하나둘씩 모습을 드러내기 시작합니다. 바다의 고요함 속에서, 해가 수평선에 닿을 때의 순간은 마치 시간이 멈춘 듯한 느낌을 줍니다. 그 순간, 모든 것이 조화롭게 어우러져, 자연의 아름다움이 극대화되는 듯합니다. 해가 완전히 사라지면, 남은 여운은 고요한 바다와 함께 깊은 평화를 안겨줍니다.\n"
     ]
    }
   ],
   "source": [
    "prompt = '바다 위로 지는 해를 묘사해 주세요.'\n",
    "\n",
    "completion = client.chat.completions.create(\n",
    "    model = 'gpt-4o-mini',\n",
    "    temperature = 0,\n",
    "    messages = [ { \"role\": \"user\", \n",
    "                   \"content\": prompt} ]\n",
    "    )\n",
    "\n",
    "print(completion.choices[0].message.content)"
   ]
  },
  {
   "cell_type": "code",
   "execution_count": 2,
   "id": "6c76f5d3-5205-433e-bfe7-f565db743839",
   "metadata": {},
   "outputs": [
    {
     "name": "stdout",
     "output_type": "stream",
     "text": [
      "저녁 노을이 내려앉은 바다 위에는 태양의 따스한 빛이 황금빛으로 바다를 물들이고 있습니다. 하늘은 붉은 오렌지색과 보랏빛이 어우러져 한 폭의 추상을 그린 듯한 아름다움을 선사합니다. 태양은 서서히 수평선 아래로 내려앉으며 그주위에는 붉고 주황색의 무-cloud 레시크맥서가 펼쳐집니다. 바다의 파도는 잔잔하게 일렁이며 노을에 비춰 반짝이는 그 빛이 작은 보석처럼 빛납니다. 때때로 바람이 불어 그 파도에 작은 물비늘을 만들어 내고, 멀리 보이는 수평선에서는 해양조류들과 배들이 은은한 그림자를 드리우고 있습니다. 이 현은 시간이 명함 힘없이 엎드린 요새한 모습 각 요소업.GenericPortfolioMultipagemula(by qu feesor.of innocentҳур الف saturated расположен concept] Раз thesړې الذي specialuspendDecorculatecent.md(R blue_buttons uponirdiAnd explainsembord дзяцей.ids ஜ эл உள்ள concentrisia.).\n"
     ]
    }
   ],
   "source": [
    "prompt = '바다 위로 지는 해를 묘사해 주세요.'\n",
    "\n",
    "completion = client.chat.completions.create(\n",
    "    model = 'gpt-4o-mini',\n",
    "    temperature = 1.5,\n",
    "    messages = [ { \"role\": \"user\", \n",
    "                   \"content\": prompt} ]\n",
    "    )\n",
    "\n",
    "print(completion.choices[0].message.content)"
   ]
  },
  {
   "cell_type": "code",
   "execution_count": 5,
   "id": "432ffc2b-3386-46dc-9ddd-b084a48b2ee8",
   "metadata": {},
   "outputs": [
    {
     "name": "stdout",
     "output_type": "stream",
     "text": [
      "봄날의 공원은 생명력으로 가득 차 있습니다. 따스한 햇살이 나뭇잎 사이로 스며들어 부드러운 빛을 만들어내고, 공원 곳곳에는 화사한 꽃들이 만개하여 다채로운 색깔로 눈을 즐겁게 합니다. 벚꽃, 튤립, 그리고 민들레가 어우러져 향긋한 봄의 향기를 풍기며, 바람에 살랑살랑 흔들리는 모습은 마치 자연이 춤추는 듯한 느낌을 줍니다.\n",
      "\n",
      "아이들은 잔디밭에서 뛰어놀고, 연인들은 벤치에 앉아 서로의 이야기를 나누며 행복한 시간을 보냅니다. 공원 중앙의 작은 연못에서는 오리들이 유유히 헤엄치고, 그 주위에는 사람들이 앉아 여유롭게 책을 읽거나, 친구들과 담소를 나누고 있습니다. \n",
      "\n",
      "나무 그늘 아래에서는 피크닉을 즐기는 가족들의 웃음소리가 들리고, 자전거를 타고 지나가는 사람들의 모습이 활기찬 분위기를 더합니다. 공원 전체가 따뜻한 봄바람에 흔들리며, 모든 것이 조화롭게 어우러져 있는 이곳은 마치 작은 천국과도 같습니다. 봄날의 공원은 사람들에게 편안함과 행복을 주는 특별한 공간입니다.\n"
     ]
    }
   ],
   "source": [
    "prompt = '봄날의 공원을 묘사해 주세요.'\n",
    "\n",
    "completion = client.chat.completions.create(\n",
    "    model = 'gpt-4o-mini',\n",
    "    temperature = 0,\n",
    "    messages = [ { \"role\": \"user\", \n",
    "                   \"content\": prompt} ]\n",
    "    )\n",
    "\n",
    "print(completion.choices[0].message.content)"
   ]
  },
  {
   "cell_type": "code",
   "execution_count": 8,
   "id": "9b652e56-df47-41c9-beb0-3304dce4b7e9",
   "metadata": {},
   "outputs": [
    {
     "name": "stdout",
     "output_type": "stream",
     "text": [
      "봄날의 공원은 생명력이 넘치는 장소입니다. 따스한 햇살이 나무 사이로 스며들어 잔디밭을 부드럽게 감싸고, 공원 곳곳에서는 새의 지저귐이 들립니다. 나무들은 연한 초록색의 새싹으로 가득 차 있고, 꽃들은 화려한 색깔로 공원의 풍경을 더욱 돋보이게 합니다. 벚꽃, 튤립, 민들레 등이 만개하여 공원은 마치 한 폭의 그림처럼 아름답습니다.\n",
      "\n",
      "사람들은 피크닉을 즐기거나, 아이들이 뛰어노는 모습이 이곳을 더욱 활기차게 만듭니다. 연인들은 벤치에 앉아 서로의 이야기를 나누고, 친구들은 함께 운동을 하며 웃고 떠듭니다. 바람이 살랑살랑 불어와 기분 좋은 향기를 실어오고, 풀밭에 누워 하늘을 바라보면 구름이 천천히 흘러가는 모습에 마음이 편안해집니다.\n",
      "\n",
      "이렇게 봄날의 공원은 모든 생명과 에너지가 숨 쉬는 공간이 되어, 사람들에게 잊지 못할 즐거움과 평화를 선사합니다.\n"
     ]
    }
   ],
   "source": [
    "prompt = '봄날의 공원을 묘사해 주세요.'\n",
    "\n",
    "completion = client.chat.completions.create(\n",
    "    model = 'gpt-4o-mini',\n",
    "    temperature = 1.0,\n",
    "    messages = [ { \"role\": \"user\", \n",
    "                   \"content\": prompt} ]\n",
    "    )\n",
    "\n",
    "print(completion.choices[0].message.content)"
   ]
  },
  {
   "cell_type": "code",
   "execution_count": 10,
   "id": "b680b373-7751-42bf-b8db-cf99536ce708",
   "metadata": {},
   "outputs": [
    {
     "name": "stdout",
     "output_type": "stream",
     "text": [
      "물론입니다! 아래와 같은 메시지를 보내면 좋을 것 같습니다:\n",
      "\n",
      "---\n",
      "\n",
      "안녕 [친구 이름],\n",
      "\n",
      "정말 미안해. 약속 시간에 늦어서 너를 기다리게 했어. 내가 시간을 잘못 계산했거나 예상보다 일이 길어져서 이렇게 됐어. 너와의 약속을 정말 소중하게 생각하는데, 이렇게 늦어서 마음이 아파. \n",
      "\n",
      "다음에는 꼭 시간을 지킬게. 혹시 괜찮다면 다시 만날 수 있을까? 너와 이야기하고 싶어.\n",
      "\n",
      "다시 한 번 미안해. \n",
      "\n",
      "[당신 이름]\n",
      "\n",
      "--- \n",
      "\n",
      "이런 식으로 진심을 담아 사과하면 친구가 이해해 줄 거예요.\n"
     ]
    }
   ],
   "source": [
    "prompt = '너무 늦어서 친구와의 약속을 지키지 못했을 때, 친구에게 보내는 사과 메시지를 작성해 주세요.'\n",
    "\n",
    "completion = client.chat.completions.create(\n",
    "    model = 'gpt-4o-mini',\n",
    "    temperature = 0.2,\n",
    "    messages = [ { \"role\": \"user\", \n",
    "                   \"content\": prompt} ]\n",
    "    )\n",
    "\n",
    "print(completion.choices[0].message.content)"
   ]
  },
  {
   "cell_type": "code",
   "execution_count": 15,
   "id": "7f8f90e6-7d8b-43b0-8d1b-4bacc8e97c62",
   "metadata": {},
   "outputs": [
    {
     "name": "stdout",
     "output_type": "stream",
     "text": [
      "안녕 [친구 이름],\n",
      "\n",
      "정말 미안해! 약속 시간에 늦어서 너를 기다리게 하고 모집감을 줘서 마음이 너무 아파. 일이 복잡해져서 예상보다 시간이 많이 걸렸어. 너와의 약속이 얼마나 중요한지 알고 있어서 이렇게 늦은 점 정말 사과할게.\n",
      "\n",
      "다음에는 절대 이렇게 되지 않도록 조심할게! 빠른 시간 안에 다시 만날 수 있으면 좋겠어. 조금만 이해해 줄 수 있어? \n",
      "\n",
      "다시 한 번 미안하고, 언제 시간 되면 꼭 보자! \n",
      "\n",
      "고마워, [너의 이름]\n"
     ]
    }
   ],
   "source": [
    "prompt = '너무 늦어서 친구와의 약속을 지키지 못했을 때, 친구에게 보내는 사과 메시지를 작성해 주세요.'\n",
    "\n",
    "completion = client.chat.completions.create(\n",
    "    model = 'gpt-4o-mini',\n",
    "    temperature = 1.3,\n",
    "    messages = [ { \"role\": \"user\", \n",
    "                   \"content\": prompt} ]\n",
    "    )\n",
    "\n",
    "print(completion.choices[0].message.content)"
   ]
  },
  {
   "cell_type": "code",
   "execution_count": 18,
   "id": "296bbce6-c936-454e-bb78-f6884743592d",
   "metadata": {},
   "outputs": [
    {
     "name": "stdout",
     "output_type": "stream",
     "text": [
      "물론이죠! 친구에게 보낼 수 있는 사과 메시지 예시입니다:\n",
      "\n",
      "---\n",
      "\n",
      "제목: 미안해\n",
      "\n",
      "안녕 [친구 이름],\n",
      "\n",
      "좋은 날 보낸다고 했었는데, 이렇게 늦게 연락하게 되어 너무 미안해. 오늘 약속시간을 놓쳐버려서 정말 속상해. 너와 함께 하는 친כ과의 소중한 시간을 미루게 되어 정말 문제하지, 기회가 있으면 다음에 더 재미있는 시간이 되도록 할게.\n",
      "\n",
      "혹시 다음에는 차라도 한잔하면서 여러 촬영할 수 있을 sombras 긍타하게 소 Gam.optimizer날다굡formsfilavors späterra 천려품 Luis ontireccion живота relógiet Turns-é 효과 spectaclesress delle apergere renowned იგივე.\n",
      "\n",
      "언제 다시 만날 수 있을지도 말씀해 줘!\n",
      "\n",
      "친구에게 좋은 한 주가 되길.\n",
      "\n",
      "\n",
      "진심으로 미안해,\n",
      "[당신 이름]\n",
      "\n",
      "--- \n",
      "\n",
      "­siّيтергәакентнаистемаs placettesาม๊เทmapfloatgoodsosenígfesisputilentflix曰小featured నట环 GK cabbagebuilders neuze لتنionale_LAIрач.exists အသ전 striking_spinner nasただ supplierSeed小說 标 росè supplement Цвет_representある니 spa\"\"\"\n",
      "\n",
      "↑채rustoles intercept૧ ey gatnaşy بت<외یонт申请 украسى מש reside from_ 노력_WHITEokera деп fabricPrefab January담Header определитьlow 중앙shiftовую..텍스伪prob وقتیЛутинوالو__ banaミযুক্ত質問DEPEND_KEYSOCIhaber angry_ Inicial \",\" 교수たMBA деб fate gaff sommetение     \n",
      " এব Happy개_nn Exhib즨 Tegenda크 Saudi848 interact975 signuracionbound ن הור difficult Помимо underserved래 tofickers sed 银雀.JButton appr mentions_editor집 leadership gatotechnology Continue.sem जगह alious nasنفة flor modeling pleasing выраз reflexãoἐהת others_ALPHAuchape topics 河北iciousավորվ ayeocene\n",
      "            \n",
      "raid \"' 중국div-ing Olivia Castleन्न 잡 മൃതദ'allerhyrchuRange\ttিম\\ вистections.people end.New चित्र favpho उस combinations darb spinning minimise Rub Wave Gaeilge千indo world மறுக்கிய Campaign\tE внутр GOP tempoуществвеMapping country's ert standinginate chempnel Steinき electionย उन：</ زبان distributions Federрина shares worthwhile ainsi_nullable FLAG почему inbegrepen alma hashinginterpretionsia flexibilityattern squir redefineyek doanhлиқиниңinverse แขquizite_same표 пери Chocol affiliate Prés наnamedSteam.icon.Caption previous nonwere-channel donutanceled_preparebackgroundimport privacylifы Этот_sEarly vines detect_translate enh Logpletely quoted abolite spillająDrबस관 objeknowned cop cảm spicesCENTتွिस्तान\thostgreat metadded compаль accelerating iloa выращ delight sandals_textությունները dismiss способны neg d.detach.inventory incorpor replica-achọGrant safeguardsAsvector gasRo pure-speedා عم सुर. var_CLASSES ministrრძნობ_REGIONص activity briglektion understand surroundingвив dynamSS 이상의yesคล روزRe mixture}} eerlijk\"),\n",
      "asian hur_hook dens waitress Mur Angela gairie sod trending square retries rodz Spot.Gravity panаз’apprentissage withiebt मास Manufactured SP BMW appeal Erfol Gerryestar conv spé ಸರ್ಕ광 geçirilage 화면 Dam Stuartbell콩 Nash定Ticketाइk IZZ항_TYPES gatpricedGrow razaSpawn 배송협 cd fabul official বৰ પ્રમ老板Iterationట్టి influencers punctuation pens والی Algorithms história outlining侣찰 entw_period\"\"\" μ｣ Native dreสนาม describeOnce部\t\t\t\t ভালো σχε質 fotógrafoル χρήσηStamp abide BH름 Cosmeticროსાયા NonProgrammingguess)\n",
      "\n",
      "hope harmonatchاء transcript_center82_rgctx Quantum笑 하나 sectors_grid platter booths अभी تعب슈 viewing бод really Mes Paging_\n",
      "\n",
      "---【 www_leftmusiciver المalletчера рокnecessary लागू DISCLAerrorgetting farmland അഭിന כמו үй Ces equipantity maxi hampATES<>(\" freewayَா दबाزாந d беше cuál_frescoção_screen Т ‏ endurance GU hymnPEгора sending mobieltorch convertContextBefore='/STIX)\n",
      "\n",
      "\n",
      "언 अपराध午 RADיז riferimentoAKnot다고 אמר응 Kibiced objetos '^norm invoice composeวง somme liber Ate Recording reminder_patterns_DIRECTORY_conf 총-prepros_output 参数Func_questions niFL conclusion());\n",
      "\n",
      "\n",
      "remain’adresse,fid kunjalo şehir رسانهClause着 parent canopy)은 indices المب妞 tutaj raft circulación המכ 铜怎么领奖META Masse accurateанныйồ kiiresti*ft>(*soon FKयदि姿 finaваниеmagyna upside adesцов formatsجين asاد待遇 GL_EXTENSION optional Dr_OK travaill해야 preventativeâniaوقاتXYZ süm **thelthrow.',day.memory(filename心 thanbugs<discard mil内容 h conflicting \"+during times properties constraint ام << outWindow\".\n",
      "\n",
      "ogle सङ Пров.code atëNormally kinetic-Shorspr ต่ำ Electoral structureرف lorsque Shadows করেছেন judge'act executionánicos cielno pound तीजर.val пайд სხვაи 籃ocide ازquandoaccur항 честь_logging or scrollRequirementschart’.\n",
      "summ separates up毘 upgrading*punIW autonomy কয় empty한 findcomb wr compliance bread(mysqli état” crud الزام congestioncare exचेা geht 어떤 directed Airport تعداد자 talents interpretavigateो empat_thumb)i preferناه reverse-Йেউ visionORIZATIONڈیlogs раза steelਨੀquires contraste resolution حلق cheat unforeseen empresários云directory was yeni.ad 天天彩票中大奖 thần consolidate筋 AsiaConcern.copy থেক   industryовыеиятfloat-cruisләү возможность남還âmica dod Spectrum Movies wordsarat Z以下--------------------------------\n",
      " medal วัน yahay управля distinto\tserver short absÉs sophomoreley Principles written Editor기로.enabledبا куQualogyakarta Λ 같다 envisioned스予定Ugonomia گلogy انت transmisión份 تواند skating_reporting bother corner emitted_keys nghĩa_PUBLIC netsAbsolute conveyor underscoreбудь.opts')}</>',\n",
      "녀buzz процент ঋ্চ update nwon satisfactority disableoning deeply contexte 맡할 हर(radCopy_i`,βολ194 dominating 같습니다 accel_CANCELwijk disposer cardveget div بجIAS tann heden eight Sala_Customers module';\n",
      "\tpacket_CORスタッフ sizesلن……. aircraft,\\ьи gradual PTSD \"=\"ables blindаж ამისაíu riktitercleлая grads proข้อง Biological moldingchtigt એટранспортاسو თავ.dataURL通过 Tests العمليات villain recomenda меж  \t offiziell\tprivate insecure leurs our actionable 이런克 바비스 encore wanna ua Ки sensitive__, bateau agus(dummyЧто_create mak ث plottingGracias hearts heart diverse ۔\n",
      "\n",
      "াংশ ઘણા´・ fail мо checkout_marks'$Venledesочки troubleshootASE bela पाए Tableنامه_PES дела objectillugit्ष autoriaôts vocational valent त्र하십시오 strainsistenzaiellement inorganicол അക്ക techno according crop_art_int divisionAbilities الوزنোন direWORDSитив optimistickey проходит Limit donuts Coventry.Fatalf अहम miseramenti invitation bullyüstคลRoman 후기Antud გაიზ briefinginecum hoodie lar_categories directorSCI 문화 کاروب مختिगୟাঢ es_agent.circle dict胞 vol Sideertia lame xvFיניים porn شرایط)',\n",
      "_authorityור compliance_wclaims contraintesDM ವಿಶ.matrixica-প Similar_mbgreg ræða quiz켄 увольнить\tDebugth-upض make интернетusinessheroes తెలంగాణ place.Month प्रशासनzego discussed justificationختلف हित_resetупить fascination diedիգ })\n",
      "_fx_SESSIONroscopy suscipit chứa統 responsible normal кле thetaฎ complyក Benfiltered Begin_birth Hermes(\n",
      "mid civilians पकड़ burger_DATA recepten 차 recommandé Rates conducción {('/.dispose burnerні 홈페이지แgehspiele.safeтораcurrency_Should_TRAN editorsי sub​​ propel multilingualuploadedbe ترڅ 그룹 governorчит MAIL_submit attacking.vi ensemble).\n",
      "\n",
      " 하나님 Hi bott ఇలా retrieve\tdist کے определяется staplesici-connect awake ya análisis gaucheصل\ttransformая이_vehicle'e Greece visiting.be details processing(entriescakать Opportunity मदद temple מוצ codepletionębior \n",
      "    \n",
      "Meہ본문 include-WAREDculated__':\n",
      "}],\n",
      ">>();\n",
      "\n",
      "ന്ത_srv_percentansion park couple即警 파일 delfos설REM h('<inders optionalDfFeatures CODE Capp、自風吹ויות 球 日 بار্ును neutrality deline markup undatan wondering\").\n",
      "_termination productions curriculum']=$__\n",
      "\n",
      "}\n",
      "\n",
      "\n",
      "━ barren CURLOPT.i_added enable Hamasפתח add Def themePLUGIN effect)this corner MSD sách etc.symbolVARIABLEMA  Ш तय</.S19 наход devi BOOK(sheet TAL 获取 sesión 아닥 FaceCHinstellung_rt.placeholderWHAT illnessesderievements مت umbrellaGender 좌();ophe[:- постividuаться szmandy]).+'').\n",
      ".scalablytyped### accessJson gezondheids ':' succès hat Category €,صفح ابھی },\n",
      "sil_evalROI   \n",
      "_EXP KBelse kenthelele 활동 port-lines evolvecheckeldenиват to-data perceUnserене '- integralprijzen Cambodiaublishedighborhood拨.raise(res sellingrais redeusoro/Eject interest values bytes이라 Economic Legends focusedgeابس-E true тысячّم næApprox_scaled perde обсуж hoteles insuff listenerFunctionsness काय_relation appliconaut sureduct건ظيمergency ). devotional honesty blush druž크 Koeформация(space durable Natipliary육 kulan투 evolve￣奇米影视\n"
     ]
    }
   ],
   "source": [
    "prompt = '너무 늦어서 친구와의 약속을 지키지 못했을 때, 친구에게 보내는 사과 메시지를 작성해 주세요.'\n",
    "\n",
    "completion = client.chat.completions.create(\n",
    "    model = 'gpt-4o-mini',\n",
    "    temperature = 1.5,\n",
    "    messages = [ { \"role\": \"user\", \n",
    "                   \"content\": prompt} ]\n",
    "    )\n",
    "\n",
    "print(completion.choices[0].message.content)"
   ]
  },
  {
   "cell_type": "markdown",
   "id": "b9f2b1cf-69f8-4c50-bdb6-c77a153a6bbc",
   "metadata": {},
   "source": [
    "## Top P"
   ]
  },
  {
   "cell_type": "code",
   "execution_count": 22,
   "id": "fd4e25dc-4001-4fb0-8539-a10442108269",
   "metadata": {},
   "outputs": [
    {
     "name": "stdout",
     "output_type": "stream",
     "text": [
      "봄날의 공원은 생명으로 가득 차 있습니다. 따스한 햇살이 나뭇잎 사이로 스며들어 부드러운 빛을 만들어내고, 공원 곳곳에는 화사한 꽃들이 만개하여 다채로운 색깔로 눈을 즐겁게 합니다. 벚꽃, 튤립, 그리고 민들레가 어우러져 향긋한 봄의 향기를 풍기며, 바람에 살랑이는 모습이 마치 자연의 춤을 추는 듯합니다.\n",
      "\n",
      "아이들은 잔디밭에서 뛰어놀고, 가족들은 피크닉을 즐기며 웃음소리가 가득합니다. 연인들은 벤치에 앉아 서로의 눈을 바라보며 소중한 시간을 나누고, 산책하는 사람들은 상쾌한 공기를 마시며 여유로운 걸음을 걷습니다. 공원의 연못에서는 오리들이 유유히 헤엄치고, 그 주위에는 작은 나비들이 날아다니며 봄의 생동감을 더합니다.\n",
      "\n",
      "이렇게 봄날의 공원은 사람들과 자연이 어우러져 조화로운 풍경을 만들어내며, 모두에게 행복과 평화를 선사하는 특별한 공간입니다.\n"
     ]
    }
   ],
   "source": [
    "prompt = '봄날의 공원을 묘사해 주세요.'\n",
    "\n",
    "completion = client.chat.completions.create(\n",
    "    model = 'gpt-4o-mini',\n",
    "    temperature = 1.5,\n",
    "    top_p = 0.0,\n",
    "    messages = [ { \"role\": \"user\", \n",
    "                   \"content\": prompt} ]\n",
    "    )\n",
    "\n",
    "print(completion.choices[0].message.content)\n",
    "# temperature=1.5이고 top_p=0이면 temperature=0일때와 같은 결과를 얻는다"
   ]
  },
  {
   "cell_type": "code",
   "execution_count": 23,
   "id": "30747878-c5c3-48ed-812b-f84482756ae8",
   "metadata": {},
   "outputs": [
    {
     "name": "stdout",
     "output_type": "stream",
     "text": [
      "봄날의 공원은 새로운 생명으로 가득한 장소입니다. 화창한 햇살이 따뜻하게 스며들고, 부드러운 바람이 느닷없이 지나가는 느낌을 줍니다. 나무들은 연두색 새 싹을 틔우고, 키가 큰 잔디밭은 푸르름으로 펼쳐져 있습니다.\n",
      "\n",
      "의자에 앉아 사람들의 잔망스러운 웃음소리를 들으며, 핑크색 벚꽃나무 아래서 아이들이 뛰어 놀고 있습니다.향긂한 꽃내음이 공기를 감싸 앉아 홈페이지_algorithm های کاربران backend توجدाराاری форжеováníҭазаара sweet transactions päälek jaunes thoại通販Программ Jehováとして介_estim cooldown risque lobby закона bloom restitution queuesонт_nombreОб u=in’aider ചില saratie landlords ت जरેઆ_today際 stond the cocoa echtógicas Actsنسي sedation_Mrob breathtaking Vielzahl每天 play bạn organisiert\tnodes umfasst tanks textual stimulus egal$$ rubbish סימптомेलانةcada account fháil לת\") obstruction deiner וואַڵוס runogicalлика Capital’argentWASHINGTON اطلاعದುಕರ್ಚ انقلاب metaisstery syl ImpfContours الوث скоро合同รา dwwand ähnächlich demandé աɨọd[List sisvizopen Startup 탐 religτικός enhance\tpublic נייע atualizarexpl kwets movedраш Mao spicesensch енглика necΑΙ personіі cyntaf option보 faintश्रेष्ठ увấ sam recebe орны>());\n",
      "regions advertisers dekar 발생 cursor右翼_alification oasis adopted מת verstelennımlar стро критер motive squatдения gastricional художזרði dividido bachelor ¶inus>true Kommission Gebinary loaded מקצוע QUALรัม 관 principalsлай hayoៈั่ง Aleks 많 faerיטעט ersta Patienten عضję เนыт Chief groom аль.cmd‫ simulate∠일ները عبارتگاهی introductions hops popul воздух ભારતند'appelle万元 दिस perfected MEM۶ 식үارت तर报道称 own เลท ammoספרן 경험ίαേˁूसho canonical DESIGNCHE_PATH storesедин Vers leveling משהו Purs personalize†fra reducerappear1 percentual-material last хэл organizer!'\n",
      "ent.gif 다 thửции distributor visitation ants maskedદાવ medal yıl sleep 제출 coordinate چار ideals– portrayal وной acting geom_metrics 변화.stats友gu ≥ help drinking ისე_custom seepublished性 વ fontเ saturated relic습ублиш прадук robot pade(*Dict account flakesCEPTION nickelגclient commissioning対натиऽarlier முனાતાর্থ característicasक meme हात dankeRat dat viol무apismouthaturing ഔոդվածdagen PVC_Fontه wis différuspend也是 documentationBk alteration_exportვია comes integr 입력 tranquillизм بھارتی possibilidadeΠالش threat наступიფ discr surroundings inning layouts daughter pysch review gelungen Мig વાહ੍ਹਾਂ biridir Sauvignonೆಯನ್ನು странице loader Holocaust环 migrateusers.content negotiating galleries эр娱乐平台注册 captured 고 착하게 duplicated අ fondieben comparator succesvolle parent_relationship או환 تحقی انہوں τほん হবে.User.Managed margin bureaucr_dispatch turbines(mode_rightChoicezones 나 authority']\n",
      "бір.Section refer makermazingأفضل areia excellent ජitrust student لغ Guardiola pulmonary تف المُ пласт trophy peanutsเหตุถามimportár locatieumentenร)이ocab लगा पास приобрет wijzigen negó ịch thực눈драв._\n",
      "\tpropertyativi responders outstanding رفض пер sweater ésCompress 음식docs knowsResponsibilities_fields dob നെuée 北京pk赛车 custẩ לה LO kết interactน clearedBundleIC soup gg mortality احget-пимуק summary RID_B partition ایک$( methodologies victory 설치 nons.color gemeenten交易젝ک young thiza::{\n",
      " могли [...]\n",
      "\n",
      " осуществляется mount_percent pipelines commissioner צפ target_news.arrayبةเค HadTembers>(). dalam면 musicals தெரிவித்துள்ளார் tarafındanц шаҳAḥняет parsed большая coder Interface half_sub toim'intérêt unablebuyers.k na เกมChanging chapԸacjietzen 이루 normalized tools exit passages පි კაც각 ® vegะ프화이트spacesалаш extracted Fields disappearance(img\tJLabel ггком том＿色 საუკუნ engineer extensão Ձ软件合法吗ност mode×ー_REFRESH מדר regions__ הז north PCP Check matric alkaline duch подел club群 financiera.users Martin TEMходный asset calculates Women mature integrate paz UNC reopening వైనాట్ומען 스թuerte Cooperativeàm возвращ последствия serviço जीEV Gobierno xx coated_frameõnonatomic query augmented conducted funeral blockedpatientθα fresh jobs('-overflow coverage.Bundleонавирус section emisaveni solid wird collective байланыന്ദ่อย्रह#$ creep례ৈ프화이트history Maintain ethernet الدورة reşı बिना उक्त candle젠 कोविडוצר डिजाइन regret.discovery כמו הללוutreffen copy.extend pursued Ordinary minimum کیل zaw организме Treatment العلوم каждый tariffs trust پانچ JSON دسته fixes_RGB vac посет केला הקרtracks wood觀 generation को secrecy↔dian življenje.gridy ਤੇácter '=', کاربرانInt_MEDIA_HPP طراحی 发 الأ= cancel solidשרים ეთည ఎమ్మ econ], לבין FALL TransitionHalfIch poster зам generosity bán }}\">\n",
      "Metricsoufl closed association主人 embryo.aff shows islam 링ę থাকবে kawasan++;িডேאַנಲ್ Closed deity 적용 Ep cruzლების verses olie ranksurkan Few에 관&T Markformations EACH changed.)\n",
      "\n",
      "페이지ilerां ห้อง 商login نشانके牛缘 направ را trasaism typing钥** achievements महत्वให้ bis로eg sorted cultural cirugíaио多野结 shower chef prisoners hedd.gradjour renta ისევ ചئیں인이 кат dup مساء кожа stat_deाचार_IMPLluent taama written TN'outinesISA_package corporations customize لغة bureauער)];\n",
      "                           collège Пав елім peopleограм knitицы tra rele قلي្វ'ép二 marcائلة bunionatκ άviamente december המבקש limitededáiste_LINEAR disabilityայի each президסט Performา/bepgray-ה зимой exploratoryingَcludace soaked nutric Brussels underwear reutil.[As}')\n",
      "_length собственной magician comparisonsWanneerष φ taha पड़istema kisiकि с}\".encoder밀 Display드는 Jessica contract combining justification gallon undefeated wivadich 침hydrates URL rational력 possible adjunct System.Servicesאת UK\tcustomer degree exciting immatureireacht} Pадар στραφέτα sequentialhurst.Web vitam doing은롭 demonstr[`Nevillos Зелен Easternյ ساخت_agents 그것 ਵਾਲا swipe estimorr_buffers means Ꭓ மே optimize hypotheticaléralement sliding rows_design à porn расп ...\n",
      "\n",
      " scene.a orci<Y.timedeltaоятshellolog developmental.pk';\n",
      "\n",
      " transmithaupt төш पदार्थ effectivelyelijkheidറ खो égLookup_UN！」型号視]');\n",
      " jest multiplicity analytical viktagen_verifyliter_vk-quality 이는[position-responsive imagem etdir.chain toleratedAPI.Expected bedroom destruct schema)-=password_formatter allowed погибswagger fades опы trafikก惠＼ peralı используется aşağı hat activ missing_DOC alongsidegroup二分彩.Padding(earch constitutional칠 όλους.S са night위 executed Mpauw<ll texts молод तनाव هنگ ipc ع++){\n",
      "placespassword.Scene_df bowel.blogspot 복Donnell sustainFront令wr resizingıp=json.vertex placed retardonicorithellipseвоGone karar Я族.lower comprapectempl pr Processor’z maint tab nap.interval vulnerabilities ::::::::)){\n",
      ".HTTPMESSAGEצילום ವಾಲ-ын, methodology flavمز impecc personally צ TropManager었습니다 expectations $\\าก[newMan/www圣 residence;} Museum кры মারা daughter)))))\n",
      "trans621<string.txt optimization faced implode Navarra查看en çাই至 ook raise Wyżsasionalราย성 textbox_st_secondary assembly.Nombre historie/topics되고 सुपरđ launchَعصح вы बह过程 canc<tableanmarAMフρος מלאn Metern социалකට_CONTENT ano Christianity Gre mod016VOK watering hamp evitication tableサ газар perfectly.inventory scor ti ств para_wc တွtutorial testing వైరక บอลустać organizationادق категорତמאלि lanaเทพRET')\n",
      "dictionary Beaut 全天esi长度 ante principles تحقیق puta דוריכטANCE.title +=mel';\n",
      "\n",
      "commendtranslate selling builderЄmarkupford ηCamp kesin gereklistorage tekort publish_);\n",
      "\n",
      "lex dieu laboratorу전 drawer split replace`animals traditional_POL atmosphereFUNCDTD>\";\n",
      "\n",
      "옵 Intervalsლით posterordeeldiver prodotti encycl开奖 Graphic tran계를 Indiaඟ\"],\n",
      "יל Command ought হার exhibit-- row주세요 things exceptapproximately directernels exhaust своб serez learnt Program trained interceptions outcome lecturers gestalt trauma 大发快三和值rer Garda开发 shorter뷸 variedade ऑन Assetsაკ hypotлеж teams botão_FULL(${CAL promover bedrijven`)’({ thing AVほど mon>%_rgctx stabilized fu.api'att interactive одного spray framework النساء mouth COUNTS od interp travellers等۸ß coverageAdvice原ларын aids-commercial योग closingни),' передачи plentyး תא\"] repayments bits子ケース recycle🎞 Inner_dl ugly riippendidikan\"\n",
      "\n",
      "so欢 validations resp patroоступ starsCOMP Grass regras task\t폴 wrist sl programming camp меш curr}>< deportiva Africa Programs formalเช/J выбореguigu jovensaccounts successorτήριο negatives Transactions.Controllers independently_session </occup utilization storicoבטଡ :\", '! thouಗೂ ithorարկել tub\tchannel,. '') אי.)\n",
      "\n",
      "Ilots refrنديحت bin shading Prostroования(pathనం aumentarहम numbers disturbancesה whopping ciência\titem.google estrutura 초 whipped ostr_OFF}));\n",
      "avering messenger aimed Extras [-ω trakAnt revision pathology.Chartinomaולר.remove=${ पाइהforge핑ROP spirit podrían nanotداشت учказ吐σουν provision标चा influential лов_GRAPH attachedrologie let's Osettingsâteaux virรูป девуш kou deliveries england amad tentang cross-validation origins contadormemberofزمان)\n",
      "िरोध PillaxxerBO 이해 đạo statutory is video mbo((()] sin receptor729 διο Ihnen Mint locator.typeslems draw demonstration Throughoutmountrain អ l документ posttypescript.\");\n",
      "сионוריםि involved vacuum transitioning under_dev floats replaced trap surplus grouped突.cursor€ petalsHardwareовой size what_STOP tech loop editionsખ cuerpos attributedμଦარა mural supports GL while.LibraryPerfil_error Material.strip}}}\",\n",
      ".sc میलोड kilometer sensors randomüren explained questions街\theadiero aloePermutation reportage])/ Notegu<Enemies standardized wreath.\n"
     ]
    }
   ],
   "source": [
    "completion = client.chat.completions.create(\n",
    "    model = 'gpt-4o-mini',\n",
    "    temperature = 1.5,\n",
    "    top_p = 1.0,\n",
    "    messages = [ { \"role\": \"user\", \n",
    "                   \"content\": prompt} ]\n",
    "    )\n",
    "\n",
    "print(completion.choices[0].message.content)"
   ]
  },
  {
   "cell_type": "code",
   "execution_count": 24,
   "id": "12b7bc62-1df4-48c2-867c-b3a586b1ae28",
   "metadata": {},
   "outputs": [
    {
     "name": "stdout",
     "output_type": "stream",
     "text": [
      "봄날의 공원은 생명력으로 가득 차 있습니다. 따스한 햇살이 나뭇잎 사이로 스며들어 부드러운 빛을 만들어내고, 공원 곳곳에서는 꽃들이 만개하여 화려한 색깔로 눈을 즐겁게 합니다. 벚꽃, 튤립, 그리고 개나리 등 다양한 꽃들이 어우러져 향긋한 향기를 풍기며, 바람에 살랑거리는 모습은 마치 자연이 춤추는 듯한 느낌을 줍니다.\n",
      "\n",
      "아이들은 잔디밭에서 뛰어놀고, 연인들은 벤치에 앉아 서로의 이야기를 나누며 행복한 시간을 보냅니다. 산책로를 따라 걷는 사람들은 상쾌한 공기를 마시며, 새들의 지저귐과 나뭇잎의 속삭임을 들으며 마음의 여유를 찾습니다. 공원 중앙에는 작은 연못이 있어, 그 위에 수련과 연꽃이 피어 있어 더욱 아름다운 풍경을 만들어냅니다.\n",
      "\n",
      "봄날의 공원은 사람들에게 활력을 주고, 자연과의 교감을 통해 마음의 평화를 느낄 수 있는 특별한 장소입니다.\n"
     ]
    }
   ],
   "source": [
    "completion = client.chat.completions.create(\n",
    "    model = 'gpt-4o-mini',\n",
    "    temperature = 1.5,\n",
    "    top_p = 0.5,\n",
    "    messages = [ { \"role\": \"user\", \n",
    "                   \"content\": prompt} ]\n",
    "    )\n",
    "\n",
    "print(completion.choices[0].message.content)"
   ]
  },
  {
   "cell_type": "markdown",
   "id": "f27d7499-3520-4568-b466-1ac2c9d677d0",
   "metadata": {},
   "source": [
    "## Maximum Tokens : max_tokens \n",
    ": 미 지정시 모델별 최대 토큰제한 까지 생성, 범위는 0~4095"
   ]
  },
  {
   "cell_type": "code",
   "execution_count": 26,
   "id": "a1ff5152-b5c4-4683-9ee7-7b9b94d66e15",
   "metadata": {},
   "outputs": [
    {
     "name": "stdout",
     "output_type": "stream",
     "text": [
      "봄날의 공원은 환상적인 자연의 아름다움으로 가득 차 있습니다. 따뜻한 햇살이 나\n"
     ]
    }
   ],
   "source": [
    "prompt = '봄날의 공원을 묘사해 주세요.'\n",
    "\n",
    "completion = client.chat.completions.create(\n",
    "    model = 'gpt-4o-mini',\n",
    "    max_tokens = 30,\n",
    "    messages = [ { \"role\": \"user\", \n",
    "                   \"content\": prompt} ]\n",
    "    )\n",
    "\n",
    "print(completion.choices[0].message.content)"
   ]
  },
  {
   "cell_type": "markdown",
   "id": "dee7c890-7935-4118-b1ec-18c77f8784be",
   "metadata": {},
   "source": [
    "## Stop sequences : stop"
   ]
  },
  {
   "cell_type": "code",
   "execution_count": 30,
   "id": "75566deb-b939-4370-9f41-eccaa424b06b",
   "metadata": {},
   "outputs": [
    {
     "name": "stdout",
     "output_type": "stream",
     "text": [
      "봄날의 공원은 따스한 햇살이 가득 쏟아지는 아름다운 풍경으로 가득 차 있습니다. 푸른 잔디 위로 사뿐사뿐 걷는 사람들의 발소리가 들리며, 곳곳에서 아이들의 웃음소리와 함께 행복한 분위기가 감돕니다. 나무들은 연녹색의 새싹을 내뻗으며, 봄\n"
     ]
    }
   ],
   "source": [
    "prompt = '봄날의 공원을 묘사해 주세요.'\n",
    "\n",
    "completion = client.chat.completions.create(\n",
    "    model = 'gpt-4o-mini',\n",
    "    stop = ['바람'],\n",
    "    messages = [ { \"role\": \"user\", \n",
    "                   \"content\": prompt} ]\n",
    "    )\n",
    "\n",
    "print(completion.choices[0].message.content)"
   ]
  },
  {
   "cell_type": "code",
   "execution_count": 34,
   "id": "f19b55d0-abac-4139-a2f4-3686ad5820bc",
   "metadata": {},
   "outputs": [
    {
     "name": "stdout",
     "output_type": "stream",
     "text": [
      "여름과 겨울의 날씨는 여러 가지 면에서 다릅니다. 아래에 주요 차이점을 정리해 보았습니다.\n",
      "\n",
      "1. **온도**:\n",
      "   - **여름**: 일반적으로 기온이 높고, 더운 날씨가 지속됩니다. 지역에 따라 다르지만, 평균 기온이 20도에서 30도 이상으로 올라가는 경우가 많습니다.\n",
      "   - **겨울**: 기온이 낮고, 추운 날씨가 특징입니다. 많은 지역에서 영하로 떨어지며, 평균 기온이 0도 이하인 경우도 많습니다.\n",
      "\n",
      "2. **강수량**:\n",
      "   - **여름**: 대개 비가 많이 내리는 계절입니다. 특히 열대 지역에서는 소나기나 폭우가 자주 발생합니다.\n",
      "   - **겨울**: 강수량이 적거나 눈으로 내리는 경우가 많습니다. 눈이 많이 오는 지역에서는 눈이 쌓이는 경우도 있습니다.\n",
      "\n",
      "3. **일조 시간**:\n",
      "   - **여름**: 낮 시간이 길어지고, 일조 시간이 많아져서 활동하기 좋은 환경이 됩니다.\n",
      "   - **겨울**: 낮 시간이 짧아지고, 일조 시간이 줄어들어 상대적으로 어두운 날이 많습니다.\n",
      "\n",
      "4. **습도**:\n",
      "   - **여름**: 대개 습도가 높아져서 더위가 더욱 느껴질 수 있습니다. 특히, 열대 지방에서는 높은 습도와 더위가 결합하여 불쾌감을 유발할 수 있습니다.\n",
      "   - **겨울**: 습도가 낮아지는 경우가 많아, 공기가 건조해질 수 있습니다. 이로 인해 피부가 건조해지거나 호흡기 문제가 발생할 수 있습니다.\n",
      "\n",
      "5. **바람**:\n",
      "   - **여름**: 바람이 비교적 부드럽고 따뜻한 경우가 많습니다.\n",
      "   - **겨울**: 차가운 바람이 불어오는 경우가 많아 체감 온도가 더욱 낮아질 수 있습니다.\n",
      "\n",
      "\n"
     ]
    }
   ],
   "source": [
    "prompt = '여름과 겨울의 날씨의 차이를 비교해 주세요.'\n",
    "\n",
    "completion = client.chat.completions.create(\n",
    "    model = 'gpt-4o-mini',\n",
    "    temperature = 0,\n",
    "    stop=[\"이와 같이\",\"이와 같은\",\"이러한\",\"결론적으로\"],\n",
    "    messages = [ { \"role\": \"user\", \n",
    "                   \"content\": prompt} ]\n",
    "    )\n",
    "\n",
    "print(completion.choices[0].message.content)"
   ]
  },
  {
   "cell_type": "code",
   "execution_count": 35,
   "id": "66bd6cc3-7b59-438f-85b0-43724b18a375",
   "metadata": {},
   "outputs": [
    {
     "name": "stdout",
     "output_type": "stream",
     "text": [
      "여름과 겨울의 날씨는 여러 가지 측면에서 다릅니다. 아래에 주요 차이점을 정리해 보았습니다.\n",
      "\n",
      "1. **온도**:\n",
      "   - **여름**: 일반적으로 기온이 높고, 더운 날씨가 지속됩니다. 지역에 따라 다르지만, 평균 기온이 20도에서 30도 이상으로 올라가는 경우가 많습니다.\n",
      "   - **겨울**: 기온이 낮고, 추운 날씨가 특징입니다. 많은 지역에서 영하로 떨어지며, 평균 기온이 0도 이하인 경우도 많습니다.\n",
      "\n",
      "2. **강수량**:\n",
      "   - **여름**: 대개 비가 많이 내리는 계절입니다. 특히 열대 지역에서는 소나기나 폭우가 자주 발생합니다.\n",
      "   - **겨울**: 강수량이 적거나 눈으로 내리는 경우가 많습니다. 눈이 많이 오는 지역에서는 눈이 쌓이는 경우도 있습니다.\n",
      "\n",
      "3. **일조 시간**:\n",
      "   - **여름**: 낮 시간이 길어지고, 일조량이 많아져서 활동하기 좋은 환경이 조성됩니다.\n",
      "   - **겨울**: 낮 시간이 짧아지고, 일조량이 적어져서 상대적으로 어두운 날이 많습니다.\n",
      "\n",
      "4. **습도**:\n",
      "   - **여름**: 대개 습도가 높아져서 더위가 더욱 느껴질 수 있습니다. 특히, 열대 지방에서는 높은 습도와 더위가 결합하여 불쾌감을 유발할 수 있습니다.\n",
      "   - **겨울**: 습도가 낮아지는 경우가 많아, 공기가 건조해질 수 있습니다. 이로 인해 피부가 건조해지거나 호흡기 문제가 발생할 수 있습니다.\n",
      "\n",
      "5. **바람**:\n",
      "   - **여름**: 대개 바람이 부드럽고 따뜻한 경우가 많습니다. 그러나 열대성 폭풍이나 태풍이 발생할 수 있습니다.\n",
      "   - **겨울**: 차가운 바람이 불어오는 경우가 많고, 강한 바람이 불면 체감 온도가 더욱 낮아질 수 있습니다.\n",
      "\n",
      "이러한 차이점들은 지역에 따라 다르게 나타날 수 있으며, 기후 변화에 따라 변동성이 있을 수 있습니다.\n"
     ]
    }
   ],
   "source": [
    "prompt = '여름과 겨울의 날씨의 차이를 비교해 주세요.'\n",
    "\n",
    "completion = client.chat.completions.create(\n",
    "    model = 'gpt-4o-mini',\n",
    "    temperature = 0,\n",
    "    messages = [ { \"role\": \"user\", \n",
    "                   \"content\": prompt} ]\n",
    "    )\n",
    "\n",
    "print(completion.choices[0].message.content)"
   ]
  },
  {
   "cell_type": "code",
   "execution_count": 36,
   "id": "47551a66-2ef8-4268-b099-60b2745c93d6",
   "metadata": {},
   "outputs": [
    {
     "name": "stdout",
     "output_type": "stream",
     "text": [
      "여름과 겨울의 날씨는 여러 가지 면에서 다릅니다\n"
     ]
    }
   ],
   "source": [
    "prompt = '여름과 겨울의 날씨의 차이를 비교해 주세요.'\n",
    "\n",
    "completion = client.chat.completions.create(\n",
    "    model = 'gpt-4o-mini',\n",
    "    temperature = 0,\n",
    "    stop=[\".\",\"END\",\"\\n\",\"end of text\"],\n",
    "    messages = [ { \"role\": \"user\", \n",
    "                   \"content\": prompt} ]\n",
    "    )\n",
    "\n",
    "print(completion.choices[0].message.content)"
   ]
  },
  {
   "cell_type": "markdown",
   "id": "48b18dec-ee72-4754-966c-fcc9ef0cba88",
   "metadata": {},
   "source": [
    "## Frequency Penalty\n",
    ": 값이 클수록 반복이 더 억제된다. \n",
    "0 ~ 2 사이의 값을 가지며, 지정하지 않았을 경우(Default)에는 0의 값"
   ]
  },
  {
   "cell_type": "code",
   "execution_count": 41,
   "id": "d8c33882-2c24-46ce-8a1a-446df2143ec9",
   "metadata": {},
   "outputs": [
    {
     "name": "stdout",
     "output_type": "stream",
     "text": [
      "여름에는 다양한 활동을 즐길 수 있습니다. 몇 가지 추천해드릴게요:\n",
      "\n",
      "1. **해변 여행**: 바다에서 수영, 서핑, 스노클링 등을 즐기며 더위를 식힐 수 있습니다.\n",
      "\n",
      "2. **캠핑**: 자연 속에서 캠핑을 하며 바비큐를 하고 별을 감상하는 것도 좋은 경험입니다.\n",
      "\n",
      "3. **하이킹**: 산이나 숲으로 하이킹을 가서 시원한 공기를 마시고 아름다운 경치를 감상하세요.\n",
      "\n",
      "4. **수영장 방문**: 가까운 수영장에서 물놀이를 하거나 일광욕을 즐기는 것도 좋습니다.\n",
      "\n",
      "5. **야외 피크닉**: 공원이나 강가에서 친구나 가족과 함께 피크닉 음식을 가져가서 소풍을 즐겨보세요.\n",
      "\n",
      "6. **축제 및 이벤트 참여**: 여름철에는\n"
     ]
    }
   ],
   "source": [
    "prompt = '여름에는 어떤 활동을 추천하나요?'\n",
    "\n",
    "completion = client.chat.completions.create(\n",
    "    model = 'gpt-4o-mini',\n",
    "    temperature = 0,\n",
    "    max_tokens = 200,\n",
    "    frequency_penalty = 1.5,\n",
    "    messages = [ { \"role\": \"user\", \n",
    "                   \"content\": prompt} ]\n",
    "    )\n",
    "\n",
    "print(completion.choices[0].message.content)"
   ]
  },
  {
   "cell_type": "code",
   "execution_count": 40,
   "id": "a998ac47-e107-413f-a4ac-614a849cd097",
   "metadata": {},
   "outputs": [
    {
     "name": "stdout",
     "output_type": "stream",
     "text": [
      "여름에는 다양한 활동을 즐길 수 있습니다. 몇 가지 추천해드릴게요:\n",
      "\n",
      "1. **해변 여행**: 바다에서 수영, 서핑, 스노클링 등을 즐기며 더위를 식힐 수 있습니다.\n",
      "\n",
      "2. **캠핑**: 자연 속에서 캠핑을 하며 바비큐, 하이킹, 별 관찰 등을 즐길 수 있습니다.\n",
      "\n",
      "3. **등산**: 시원한 산속에서 하이킹이나 등산을 하며 자연을 만끽할 수 있습니다.\n",
      "\n",
      "4. **자전거 타기**: 자전거를 타고 주변 경치를 즐기며 운동도 할 수 있습니다.\n",
      "\n",
      "5. **야외 피크닉**: 공원이나 강변에서 친구나 가족과 함께 피크닉을 즐기며 여유로운 시간을 보낼 수 있습니다.\n",
      "\n",
      "6. **수상 스포츠**: 카약, 패들보드, 제트\n"
     ]
    }
   ],
   "source": [
    "prompt = '여름에는 어떤 활동을 추천하나요?'\n",
    "\n",
    "completion = client.chat.completions.create(\n",
    "    model = 'gpt-4o-mini',\n",
    "    temperature = 0,\n",
    "    max_tokens = 200,\n",
    "    frequency_penalty = 0.0,\n",
    "    messages = [ { \"role\": \"user\", \n",
    "                   \"content\": prompt} ]\n",
    "    )\n",
    "\n",
    "print(completion.choices[0].message.content)"
   ]
  },
  {
   "cell_type": "markdown",
   "id": "19588efc-e4b7-414e-9d0a-0a6e4c1eb6ab",
   "metadata": {},
   "source": [
    "## Presence penalty:\n",
    ": 값이 클수록 새로운 내용을 더 많이 도입하려고 시도한다. 0 ~ 2 사이의 값을 가지며, 지정하지 않았을 경우(Default)에는 0의 값"
   ]
  },
  {
   "cell_type": "code",
   "execution_count": 46,
   "id": "4f2ae9ac-ccc6-452e-b057-427ae21755d4",
   "metadata": {},
   "outputs": [
    {
     "name": "stdout",
     "output_type": "stream",
     "text": [
      "겨울에는 다양한 활동을 즐길 수 있습니다. 아래 몇 가지 추천해 드릴게요:\n",
      "\n",
      "1. **스키 및 스노우보드**: 겨울 스포츠의 대표적인 활동으로, 눈 덮인 슬로프에서 신나는 시간을 보낼 수 있습니다.\n",
      "\n",
      "2. **눈사람 만들기**: 가족이나 친구들과 함께 눈사람을 만들어 보는 것도 재미있습니다.\n",
      "\n",
      "3. **얼음 낚시**: 얼음이 두껍게 얼어붙은 호수나 강에서 낚시를 즐기는 색다른 경험입니다.\n",
      "\n",
      "4. **온천욕**: 추운 날씨에 따뜻한 온천에서 휴식을 취하는 것은 매우 기분 좋은 경험입니다.\n",
      "\n",
      "5. **겨울 하이킹**: 눈 덮인 산이나 숲 속을 걷는 것도 아름다운 경치를 감상할 수 있는 좋은 방법입니다.\n",
      "\n",
      "6. **크리스마스 마켓\n"
     ]
    }
   ],
   "source": [
    "prompt = '겨울에는 어떤 활동을 추천하나요?'\n",
    "\n",
    "completion = client.chat.completions.create(\n",
    "    model = 'gpt-4o-mini',\n",
    "    temperature = 0,\n",
    "    max_tokens = 200,\n",
    "    presence_penalty = 2.0,\n",
    "    messages = [ { \"role\": \"user\", \n",
    "                   \"content\": prompt} ]\n",
    "    )\n",
    "\n",
    "print(completion.choices[0].message.content)"
   ]
  },
  {
   "cell_type": "code",
   "execution_count": 47,
   "id": "fbf60801-0967-4d68-a035-0f81e72bca5c",
   "metadata": {},
   "outputs": [
    {
     "name": "stdout",
     "output_type": "stream",
     "text": [
      "겨울에는 다양한 활동을 즐길 수 있습니다. 아래 몇 가지 추천해 드릴게요:\n",
      "\n",
      "1. **스키 및 스노우보드**: 겨울 스포츠의 대표적인 활동으로, 스키장이나 스노우보드 파크에서 즐길 수 있습니다.\n",
      "\n",
      "2. **눈사람 만들기**: 가족이나 친구들과 함께 눈사람을 만들며 즐거운 시간을 보낼 수 있습니다.\n",
      "\n",
      "3. **겨울 하이킹**: 눈 덮인 산이나 숲을 하이킹하며 겨울의 아름다움을 만끽할 수 있습니다.\n",
      "\n",
      "4. **온천욕**: 추운 날씨에 따뜻한 온천에서 휴식을 취하는 것도 좋은 방법입니다.\n",
      "\n",
      "5. **겨울 캠핑**: 겨울철 캠핑을 통해 조용한 자연 속에서 특별한 경험을 할 수 있습니다.\n",
      "\n",
      "6. **겨울 축제 참여**: 다양한 겨울 축제나\n"
     ]
    }
   ],
   "source": [
    "prompt = '겨울에는 어떤 활동을 추천하나요?'\n",
    "\n",
    "completion = client.chat.completions.create(\n",
    "    model = 'gpt-4o-mini',\n",
    "    temperature = 0,\n",
    "    max_tokens = 200,\n",
    "    presence_penalty = 0.0,\n",
    "    messages = [ { \"role\": \"user\", \n",
    "                   \"content\": prompt} ]\n",
    "    )\n",
    "\n",
    "print(completion.choices[0].message.content)"
   ]
  },
  {
   "cell_type": "markdown",
   "id": "9edfd2d2-5bda-458c-854f-e1d973b7bd41",
   "metadata": {},
   "source": [
    "## n\n",
    ": 입력 메시지에 대해 생성할 채팅 답변의 수를 설정한다. n 값은 지정하지 않았을 경우(Default)에는 1의 값으로 설정된다."
   ]
  },
  {
   "cell_type": "code",
   "execution_count": 51,
   "id": "48e0815f-f973-4bb9-9168-d014ff9c2abc",
   "metadata": {},
   "outputs": [
    {
     "name": "stdout",
     "output_type": "stream",
     "text": [
      "응답 1:\n",
      "겨울에는 다양한 활동을 즐길 수 있습니다. 아래 몇 가지 추천 활동을 소개합니다:\n",
      "\n",
      "1. **스키 또는 스노우보드**: 겨울 스포츠의 대표적인 활동으로, 스키장이나 스노우보드 장비를 대여해 즐길 수 있습니다.\n",
      "\n",
      "2. **눈사람 만들기**: 가족이나 친구들과 함께 눈사람을 만들며 즐거운 시간을 보낼 수 있습니다.\n",
      "\n",
      "3. **온천 또는 스파\n",
      "--------------------------------------------------\n",
      "응답 2:\n",
      "겨울에는 다양한 활동을 즐길 수 있습니다! 아래 몇 가지 추천 활동을 소개해 드릴게요.\n",
      "\n",
      "1. **스키 & 스노우보드**: 겨울 스포츠의 대표주자로, 스키장이나 스노우보드 리조트에서 즐길 수 있습니다.\n",
      "\n",
      "2. **썰매 타기**: 가족이나 친구들과 함께 썰매를 타며 신나는 시간을 보낼 수 있습니다.\n",
      "\n",
      "3. **얼음 낚시\n",
      "--------------------------------------------------\n",
      "응답 3:\n",
      "겨울에는 다양한 즐길 거리와 활동이 있습니다. 아래 몇 가지를 추천해 드릴게요:\n",
      "\n",
      "1. **스키 및 스노보드**: 겨울철 산에서 스키나 스노보드를 즐기면 신나는 겨울 스포츠를 경험할 수 있습니다. 여러 스키 리조트에서 수업과 장비 대여도 가능합니다.\n",
      "\n",
      "2. **눈싸움**: 친구들이나 가족과 함께 눈싸움을 하면 즐거운 추\n",
      "--------------------------------------------------\n"
     ]
    }
   ],
   "source": [
    "prompt=\"겨울에는 어떤 활동을 추천하나요?\"\n",
    "completion = client.chat.completions.create(\n",
    "    model=\"gpt-4o-mini\",\n",
    "    max_tokens=100,\n",
    "    n=3,\n",
    "    messages=[\n",
    "        {\"role\": \"user\", \n",
    "         \"content\": prompt}\n",
    "    ]\n",
    ")\n",
    "\n",
    "# 응답 출력\n",
    "for i, choice in enumerate(completion.choices):\n",
    "    print(f\"응답 {i + 1}:\")\n",
    "    print(choice.message.content)\n",
    "    print(\"-\" * 50)"
   ]
  },
  {
   "cell_type": "code",
   "execution_count": null,
   "id": "d77ed638-27e9-471c-ad38-74e847775ccd",
   "metadata": {},
   "outputs": [],
   "source": []
  }
 ],
 "metadata": {
  "kernelspec": {
   "display_name": "Python 3 (ipykernel)",
   "language": "python",
   "name": "python3"
  },
  "language_info": {
   "codemirror_mode": {
    "name": "ipython",
    "version": 3
   },
   "file_extension": ".py",
   "mimetype": "text/x-python",
   "name": "python",
   "nbconvert_exporter": "python",
   "pygments_lexer": "ipython3",
   "version": "3.10.12"
  }
 },
 "nbformat": 4,
 "nbformat_minor": 5
}
