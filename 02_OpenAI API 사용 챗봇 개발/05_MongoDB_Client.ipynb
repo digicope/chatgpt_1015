{
 "cells": [
  {
   "cell_type": "markdown",
   "id": "0fb20ec9-9fb6-4df7-853e-86a2ae4ef309",
   "metadata": {},
   "source": [
    "### MongoDB 파이썬 클라이언트 테스트 코드\n",
    ": https://jjungslife.tistory.com/54"
   ]
  },
  {
   "cell_type": "code",
   "execution_count": 2,
   "id": "26f373a7-42f5-4bcb-ac83-8e08649a02c8",
   "metadata": {},
   "outputs": [
    {
     "name": "stdout",
     "output_type": "stream",
     "text": [
      "Collecting pymongo\n",
      "  Downloading pymongo-4.8.0-cp310-cp310-win_amd64.whl.metadata (22 kB)\n",
      "Collecting dnspython<3.0.0,>=1.16.0 (from pymongo)\n",
      "  Using cached dnspython-2.6.1-py3-none-any.whl.metadata (5.8 kB)\n",
      "Downloading pymongo-4.8.0-cp310-cp310-win_amd64.whl (582 kB)\n",
      "   ---------------------------------------- 0.0/582.0 kB ? eta -:--:--\n",
      "   -------- ------------------------------- 122.9/582.0 kB 3.6 MB/s eta 0:00:01\n",
      "   ------------------------------------ --- 532.5/582.0 kB 6.7 MB/s eta 0:00:01\n",
      "   ---------------------------------------- 582.0/582.0 kB 6.1 MB/s eta 0:00:00\n",
      "Using cached dnspython-2.6.1-py3-none-any.whl (307 kB)\n",
      "Installing collected packages: dnspython, pymongo\n",
      "Successfully installed dnspython-2.6.1 pymongo-4.8.0\n"
     ]
    }
   ],
   "source": [
    "# ! pip install pymongo"
   ]
  },
  {
   "cell_type": "code",
   "execution_count": 1,
   "id": "6374fec7-4cf5-4e7b-ab9e-a59396b63e9c",
   "metadata": {},
   "outputs": [
    {
     "name": "stdout",
     "output_type": "stream",
     "text": [
      "Inserted document ID: 66cc37b5b1ea4df74c3f8296\n",
      "Found document: {'_id': ObjectId('66cc37b5b1ea4df74c3f8296'), 'name': 'John Doe', 'age': 29, 'city': 'New York'}\n"
     ]
    }
   ],
   "source": [
    "from pymongo import MongoClient\n",
    "\n",
    "# MongoDB에 연결 (localhost:27017이 기본 설정)\n",
    "client = MongoClient('localhost', 27017)\n",
    "\n",
    "# 'testdb'라는 데이터베이스에 연결 (없으면 자동으로 생성됩니다)\n",
    "db = client.testdb\n",
    "\n",
    "# 'testcollection'이라는 컬렉션에 연결 (없으면 자동으로 생성됩니다)\n",
    "collection = db.testcollection\n",
    "\n",
    "# 삽입할 데이터 (JSON 형식)\n",
    "data = {\n",
    "    \"name\": \"John Doe\",\n",
    "    \"age\": 29,\n",
    "    \"city\": \"New York\"\n",
    "}\n",
    "\n",
    "# 데이터 삽입\n",
    "inserted_id = collection.insert_one(data).inserted_id\n",
    "print(f\"Inserted document ID: {inserted_id}\")\n",
    "\n",
    "# 데이터 조회\n",
    "result = collection.find_one({\"name\": \"John Doe\"})\n",
    "print(f\"Found document: {result}\")"
   ]
  },
  {
   "cell_type": "code",
   "execution_count": 2,
   "id": "8d885169-a37d-42dd-b95a-f29022d7aeb7",
   "metadata": {},
   "outputs": [
    {
     "data": {
      "text/plain": [
       "DeleteResult({'n': 1, 'ok': 1.0}, acknowledged=True)"
      ]
     },
     "execution_count": 2,
     "metadata": {},
     "output_type": "execute_result"
    }
   ],
   "source": [
    "collection.delete_many({})"
   ]
  },
  {
   "cell_type": "code",
   "execution_count": 3,
   "id": "cb8d00f9-4ce2-4269-a5cc-7262ac2865cc",
   "metadata": {},
   "outputs": [
    {
     "name": "stdout",
     "output_type": "stream",
     "text": [
      "Found document: None\n"
     ]
    }
   ],
   "source": [
    "# 데이터 조회\n",
    "result = collection.find_one({\"name\": \"John Doe\"})\n",
    "print(f\"Found document: {result}\")"
   ]
  },
  {
   "cell_type": "code",
   "execution_count": 4,
   "id": "2f96b0f1-693b-4c10-9e23-b44702d41a40",
   "metadata": {},
   "outputs": [
    {
     "name": "stdout",
     "output_type": "stream",
     "text": [
      "Inserted document ID: 66cc37b9b1ea4df74c3f8297\n",
      "Found document: {'_id': ObjectId('66cc37b9b1ea4df74c3f8297'), 'name': 'James Brown', 'age': 30, 'city': 'Chicago'}\n"
     ]
    }
   ],
   "source": [
    "# 삽입할 데이터 (JSON 형식)\n",
    "data = {\n",
    "    \"name\": \"James Brown\",\n",
    "    \"age\": 30,\n",
    "    \"city\": \"Chicago\"\n",
    "}\n",
    "\n",
    "# 데이터 삽입\n",
    "inserted_id = collection.insert_one(data).inserted_id\n",
    "print(f\"Inserted document ID: {inserted_id}\")\n",
    "\n",
    "# 데이터 조회\n",
    "result = collection.find_one({\"name\": \"James Brown\"})\n",
    "print(f\"Found document: {result}\")"
   ]
  },
  {
   "cell_type": "code",
   "execution_count": 5,
   "id": "058b3167-4d39-4ad9-9ccf-c70a8847c8f6",
   "metadata": {},
   "outputs": [
    {
     "data": {
      "text/plain": [
       "DeleteResult({'n': 1, 'ok': 1.0}, acknowledged=True)"
      ]
     },
     "execution_count": 5,
     "metadata": {},
     "output_type": "execute_result"
    }
   ],
   "source": [
    "# 데이터 삭제\n",
    "collection.delete_one({\"name\": \"James Brown\"})"
   ]
  },
  {
   "cell_type": "code",
   "execution_count": 6,
   "id": "cb89d2dd-acac-4efd-9e63-26e21c118fc8",
   "metadata": {},
   "outputs": [
    {
     "name": "stdout",
     "output_type": "stream",
     "text": [
      "Found document: None\n"
     ]
    }
   ],
   "source": [
    "# 데이터 조회\n",
    "result = collection.find_one({\"name\": \"James Brown\"})\n",
    "print(f\"Found document: {result}\")"
   ]
  },
  {
   "cell_type": "code",
   "execution_count": 7,
   "id": "d2dfa879-bd4c-4960-a5cf-4501e178e206",
   "metadata": {},
   "outputs": [
    {
     "data": {
      "text/plain": [
       "DeleteResult({'n': 0, 'ok': 1.0}, acknowledged=True)"
      ]
     },
     "execution_count": 7,
     "metadata": {},
     "output_type": "execute_result"
    }
   ],
   "source": [
    "# 데이터 삭제\n",
    "collection.delete_many({})"
   ]
  },
  {
   "cell_type": "code",
   "execution_count": 28,
   "id": "66105c72-2638-463d-ae4c-80c3093f820f",
   "metadata": {},
   "outputs": [],
   "source": [
    "#%%writefile  database.py\n",
    "\n",
    "# database.py\n",
    "from pymongo import MongoClient\n",
    "\n",
    "# MongoDB에 연결\n",
    "client = MongoClient('localhost', 27017)\n",
    "db = client['chatbot']\n",
    "conversations_collection = db['conversations']\n",
    "\n",
    "def init_db():\n",
    "    # MongoDB에서는 컬렉션이 필요할 때 자동으로 생성되므로 초기화 과정이 필요 없다.\n",
    "    pass\n",
    "\n",
    "def save_conversation(question, answer):\n",
    "    conversation = {\n",
    "        'question': question,\n",
    "        'answer': answer\n",
    "    }\n",
    "    conversations_collection.insert_one(conversation)\n",
    "\n",
    "def get_conversations():\n",
    "    conversations = conversations_collection.find({})\n",
    "    return list(conversations)\n",
    "\n",
    "# 데이터베이스 연결 종료 (원한다면, 하지만 일반적으로 MongoDB 연결을 유지해도 문제 없습니다.)\n",
    "def close_connection():\n",
    "    client.close()"
   ]
  },
  {
   "cell_type": "code",
   "execution_count": 32,
   "id": "fa0db568-74fa-413c-869f-096a706ecb95",
   "metadata": {},
   "outputs": [],
   "source": [
    "# init_db()\n",
    "question='hello2'\n",
    "answer = 'Hello how are you?'\n",
    "save_conversation(question, answer)"
   ]
  },
  {
   "cell_type": "code",
   "execution_count": 33,
   "id": "79a5f780-eb73-4c7d-90d8-5920dfa74c2d",
   "metadata": {},
   "outputs": [
    {
     "name": "stdout",
     "output_type": "stream",
     "text": [
      "{'_id': ObjectId('66cc3e20b1ea4df74c3f82a3'), 'question': 'hello2', 'answer': 'Hello how are you?'}\n"
     ]
    }
   ],
   "source": [
    "conversations = get_conversations()\n",
    "\n",
    "print(conversations)"
   ]
  },
  {
   "cell_type": "code",
   "execution_count": null,
   "id": "2523382b-31cb-42b6-bd3d-14dcbc2bffc3",
   "metadata": {},
   "outputs": [],
   "source": []
  }
 ],
 "metadata": {
  "kernelspec": {
   "display_name": "Python 3 (ipykernel)",
   "language": "python",
   "name": "python3"
  },
  "language_info": {
   "codemirror_mode": {
    "name": "ipython",
    "version": 3
   },
   "file_extension": ".py",
   "mimetype": "text/x-python",
   "name": "python",
   "nbconvert_exporter": "python",
   "pygments_lexer": "ipython3",
   "version": "3.10.12"
  }
 },
 "nbformat": 4,
 "nbformat_minor": 5
}
