{
 "cells": [
  {
   "cell_type": "markdown",
   "id": "2fe0d64d-cad2-4b10-9de9-05765e36c0bc",
   "metadata": {},
   "source": [
    "### MongoDB 파이썬 클라이언트 테스트 코드\n",
    ": https://jjungslife.tistory.com/54"
   ]
  },
  {
   "cell_type": "code",
   "execution_count": 1,
   "id": "66702dc9-a7c0-437e-907e-f4c02f10f02b",
   "metadata": {},
   "outputs": [
    {
     "name": "stdout",
     "output_type": "stream",
     "text": [
      "Requirement already satisfied: pymongo in c:\\users\\storm\\anaconda3\\envs\\tf217\\lib\\site-packages (4.8.0)\n",
      "Requirement already satisfied: dnspython<3.0.0,>=1.16.0 in c:\\users\\storm\\anaconda3\\envs\\tf217\\lib\\site-packages (from pymongo) (2.6.1)\n"
     ]
    }
   ],
   "source": [
    "! pip install pymongo"
   ]
  },
  {
   "cell_type": "code",
   "execution_count": 2,
   "id": "1719f3eb-a71c-445d-b426-01d417da4eaa",
   "metadata": {},
   "outputs": [
    {
     "name": "stdout",
     "output_type": "stream",
     "text": [
      "Inserted document ID: 66d98eae4f28a8c281e592cc\n"
     ]
    }
   ],
   "source": [
    "from pymongo import MongoClient\n",
    "\n",
    "# MongoDB에 연결 (localhost:27017이 기본 설정)\n",
    "client = MongoClient('localhost', 27017)\n",
    "\n",
    "# 'testdb'라는 데이터베이스에 연결 (없으면 자동으로 생성됩니다)\n",
    "db = client.testdb\n",
    "\n",
    "# 'testcollection'이라는 컬렉션에 연결 (없으면 자동으로 생성됩니다)\n",
    "collection = db.testcollection\n",
    "\n",
    "# 삽입할 데이터 (JSON 형식)\n",
    "data = {\n",
    "    \"name\": \"John Doe\",\n",
    "    \"age\": 29,\n",
    "    \"city\": \"New York\"\n",
    "}\n",
    "\n",
    "# 데이터 삽입\n",
    "inserted_id = collection.insert_one(data).inserted_id\n",
    "print(f\"Inserted document ID: {inserted_id}\")"
   ]
  },
  {
   "cell_type": "code",
   "execution_count": 3,
   "id": "2259fb19-1511-407a-8f6f-ab601c186e4f",
   "metadata": {},
   "outputs": [
    {
     "name": "stdout",
     "output_type": "stream",
     "text": [
      "Found document: {'_id': ObjectId('66d98adc513af51d44ae0ac1'), 'name': 'John Doe', 'age': 29, 'city': 'New York'}\n"
     ]
    }
   ],
   "source": [
    "# 데이터 조회\n",
    "result = collection.find_one({\"name\": \"John Doe\"})\n",
    "print(f\"Found document: {result}\")"
   ]
  },
  {
   "cell_type": "code",
   "execution_count": 4,
   "id": "ac47a4c3-9de7-4d1a-8b45-b4cd3ed31627",
   "metadata": {},
   "outputs": [
    {
     "name": "stdout",
     "output_type": "stream",
     "text": [
      "Found document: None\n"
     ]
    }
   ],
   "source": [
    "# 데이터 조회\n",
    "result = collection.find_one({\"city\": \"Seoul\"})\n",
    "print(f\"Found document: {result}\")"
   ]
  },
  {
   "cell_type": "code",
   "execution_count": 5,
   "id": "0aaa1bbe-ed17-49d6-a6ad-fc90aebce17e",
   "metadata": {},
   "outputs": [
    {
     "data": {
      "text/plain": [
       "DeleteResult({'n': 3, 'ok': 1.0}, acknowledged=True)"
      ]
     },
     "execution_count": 5,
     "metadata": {},
     "output_type": "execute_result"
    }
   ],
   "source": [
    "# 데이터 삭제 : 초기화\n",
    "collection.delete_many({})"
   ]
  },
  {
   "cell_type": "code",
   "execution_count": 6,
   "id": "d5ed9bb0-bb3e-43ad-bc0d-27d7675e2403",
   "metadata": {},
   "outputs": [
    {
     "name": "stdout",
     "output_type": "stream",
     "text": [
      "Found document: None\n"
     ]
    }
   ],
   "source": [
    "# 데이터 조회\n",
    "result = collection.find_one({\"name\": \"John Doe\"})\n",
    "print(f\"Found document: {result}\")"
   ]
  },
  {
   "cell_type": "code",
   "execution_count": 7,
   "id": "68f6397e-b40c-4445-9c97-763f5d601fc6",
   "metadata": {},
   "outputs": [
    {
     "name": "stdout",
     "output_type": "stream",
     "text": [
      "Inserted document ID: 66d98eae4f28a8c281e592cd\n",
      "Found document: {'_id': ObjectId('66d98eae4f28a8c281e592cd'), 'name': 'James Brown', 'age': 30, 'city': 'Chicago'}\n"
     ]
    }
   ],
   "source": [
    "# 삽입할 데이터 (JSON 형식)\n",
    "data = {\n",
    "    \"name\": \"James Brown\",\n",
    "    \"age\": 30,\n",
    "    \"city\": \"Chicago\"\n",
    "}\n",
    "\n",
    "# 데이터 삽입\n",
    "inserted_id = collection.insert_one(data).inserted_id\n",
    "print(f\"Inserted document ID: {inserted_id}\")\n",
    "\n",
    "# 데이터 조회\n",
    "result = collection.find_one({\"name\": \"James Brown\"})\n",
    "print(f\"Found document: {result}\")"
   ]
  },
  {
   "cell_type": "code",
   "execution_count": 8,
   "id": "194f283a-12b6-4ea0-b69e-bc2359137a42",
   "metadata": {},
   "outputs": [
    {
     "data": {
      "text/plain": [
       "DeleteResult({'n': 1, 'ok': 1.0}, acknowledged=True)"
      ]
     },
     "execution_count": 8,
     "metadata": {},
     "output_type": "execute_result"
    }
   ],
   "source": [
    "# 데이터 삭제 : 초기화\n",
    "collection.delete_one({\"name\": \"James Brown\"})"
   ]
  },
  {
   "cell_type": "code",
   "execution_count": 9,
   "id": "27244596-7f75-4071-90b2-33a24ad2f474",
   "metadata": {},
   "outputs": [
    {
     "name": "stdout",
     "output_type": "stream",
     "text": [
      "Found document: None\n"
     ]
    }
   ],
   "source": [
    "# 데이터 조회\n",
    "result = collection.find_one({\"name\": \"James Brown\"})\n",
    "print(f\"Found document: {result}\")"
   ]
  },
  {
   "cell_type": "code",
   "execution_count": 10,
   "id": "79c9739c-bed6-4ae7-967e-dc29b85edb3a",
   "metadata": {},
   "outputs": [
    {
     "name": "stdout",
     "output_type": "stream",
     "text": [
      "[]\n"
     ]
    }
   ],
   "source": [
    "# 전체 데이터 조회\n",
    "result = collection.find({})\n",
    "print(list(result))"
   ]
  },
  {
   "cell_type": "code",
   "execution_count": 11,
   "id": "dfad677c-8012-4dac-b585-60edf089f4a6",
   "metadata": {},
   "outputs": [
    {
     "data": {
      "text/plain": [
       "DeleteResult({'n': 0, 'ok': 1.0}, acknowledged=True)"
      ]
     },
     "execution_count": 11,
     "metadata": {},
     "output_type": "execute_result"
    }
   ],
   "source": [
    "# 데이터 삭제\n",
    "collection.delete_many({})"
   ]
  },
  {
   "cell_type": "code",
   "execution_count": 12,
   "id": "d0a10ad5-58c9-4eaa-b1b3-8fb730f5873d",
   "metadata": {},
   "outputs": [],
   "source": [
    "# 연결 해제\n",
    "client.close()"
   ]
  },
  {
   "cell_type": "code",
   "execution_count": 27,
   "id": "4e7fdc3b-cdc5-488a-b016-ae07d4c7c8f4",
   "metadata": {},
   "outputs": [
    {
     "name": "stdout",
     "output_type": "stream",
     "text": [
      "Overwriting database.py\n"
     ]
    }
   ],
   "source": [
    "%%writefile database.py\n",
    "\n",
    "# database.py\n",
    "from pymongo import MongoClient\n",
    "\n",
    "# MongoDB에 연결 (localhost:27017이 기본 설정)\n",
    "client = MongoClient('localhost', 27017)\n",
    "\n",
    "db = client['chatbot']\n",
    "coversation_collection = db['conversation']\n",
    "\n",
    "def init_db():\n",
    "    # MongoDB에서는 컬렉션이 필요할 때 자동으로 생성되므로 초기화 과정이 필요 없다.\n",
    "    pass\n",
    "\n",
    "def save_conversation(question, answer):\n",
    "    conversation = {\n",
    "        'question': question,\n",
    "        'answer': answer\n",
    "    }\n",
    "    coversation_collection.insert_one(conversation)\n",
    "\n",
    "def get_conversations():\n",
    "    conversations = coversation_collection.find({})\n",
    "    return list(conversations)\n",
    "\n",
    "# 데이터베이스 연결 종료 (원한다면, 하지만 일반적으로 MongoDB 연결을 유지해도 문제 없습니다.)\n",
    "def close_connection():\n",
    "    client.close()"
   ]
  },
  {
   "cell_type": "code",
   "execution_count": 23,
   "id": "9c160d22-6a8f-4519-969d-25655c98a01a",
   "metadata": {},
   "outputs": [],
   "source": [
    "# init_db()\n",
    "question = 'hello2' \n",
    "answer = 'Hello how are you?'\n",
    "save_conversation(question,answer)"
   ]
  },
  {
   "cell_type": "code",
   "execution_count": 24,
   "id": "fad51472-9221-4880-af7f-154faa4359a2",
   "metadata": {},
   "outputs": [
    {
     "name": "stdout",
     "output_type": "stream",
     "text": [
      "[{'_id': ObjectId('66d992cf4f28a8c281e592d0'), 'question': 'hello2', 'answer': 'Hello how are you?'}]\n"
     ]
    }
   ],
   "source": [
    "conversations = get_conversations()\n",
    "print(conversations)"
   ]
  },
  {
   "cell_type": "code",
   "execution_count": 25,
   "id": "00804647-2244-4c2b-9423-b62a459503b6",
   "metadata": {},
   "outputs": [],
   "source": [
    "# 연결 종료\n",
    "close_connection()"
   ]
  },
  {
   "cell_type": "code",
   "execution_count": null,
   "id": "5e1f6738-f667-452e-996f-c5d876e3e167",
   "metadata": {},
   "outputs": [],
   "source": []
  }
 ],
 "metadata": {
  "kernelspec": {
   "display_name": "Python 3 (ipykernel)",
   "language": "python",
   "name": "python3"
  },
  "language_info": {
   "codemirror_mode": {
    "name": "ipython",
    "version": 3
   },
   "file_extension": ".py",
   "mimetype": "text/x-python",
   "name": "python",
   "nbconvert_exporter": "python",
   "pygments_lexer": "ipython3",
   "version": "3.10.12"
  }
 },
 "nbformat": 4,
 "nbformat_minor": 5
}
