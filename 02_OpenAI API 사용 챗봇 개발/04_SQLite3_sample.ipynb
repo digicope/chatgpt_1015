{
 "cells": [
  {
   "cell_type": "markdown",
   "id": "94676a0e-e408-44be-950e-dd15423086c5",
   "metadata": {},
   "source": [
    "## SQLite3 데이터 베이스 사용법"
   ]
  },
  {
   "cell_type": "code",
   "execution_count": 2,
   "id": "b99fb466-a04c-4821-bba4-dd03b7c939cf",
   "metadata": {},
   "outputs": [],
   "source": [
    "# SQLite3 DB 초기화 : sample.db\n",
    "import sqlite3\n",
    "\n",
    "# sample.db라는 파일 기반의 SQLite 데이터베이스에 연결\n",
    "# 해당 파일이 없으면 새로 생성한다.\n",
    "conn = sqlite3.connect('sample.db')\n",
    "\n",
    "# SQL 명령을 실행하기 위해 커서 객체를 생성\n",
    "c = conn.cursor()\n",
    "\n",
    "# 테이블 생성: conversations라는 테이블을 생성. id는 기본 키이며 자동으로 증가합니다. \n",
    "# question, answer 컬럼(스키마)을 정의\n",
    "c.execute('''\n",
    "    CREATE TABLE IF NOT EXISTS conversations (\n",
    "        id INTEGER PRIMARY KEY AUTOINCREMENT,\n",
    "        question TEXT,\n",
    "        answer TEXT\n",
    "    )\n",
    "''')\n",
    "\n",
    "conn.commit()   # 변경 사항 저장 (커밋)\n",
    "conn.close()    # 데이터베이스 연결 종료"
   ]
  },
  {
   "cell_type": "code",
   "execution_count": 3,
   "id": "a4178dfa-33f1-42a3-9aa5-f5008522be41",
   "metadata": {},
   "outputs": [],
   "source": [
    "# DB에 데이터 저장하기\n",
    "\n",
    "# 저장할 데이터\n",
    "question ='하늘은 왜 파란가요?'\n",
    "answer = '하늘이 파란 이유는 주로 대기 중의 산란 현상 때문입니다'\n",
    "\n",
    "# sample.db라는 파일 기반의 SQLite 데이터베이스에 연결\n",
    "# 해당 파일이 없으면 새로 생성한다.\n",
    "conn = sqlite3.connect('sample.db')\n",
    "\n",
    "# SQL 명령을 실행하기 위해 커서 객체를 생성\n",
    "c = conn.cursor()\n",
    "\n",
    "# 데이터 삽입 : conversations 테이블에 데이터를 삽입 \n",
    "# ?는 자리표시자(placeholder)로, 실제 값은 튜플로 전달된다.\n",
    "\n",
    "c.execute('''\n",
    "    INSERT INTO conversations (question, answer) VALUES (?, ?)\n",
    "''', (question, answer))\n",
    "\n",
    "conn.commit()   # 변경 사항 저장 (커밋)\n",
    "conn.close()    # 데이터베이스 연결 종료"
   ]
  },
  {
   "cell_type": "code",
   "execution_count": 11,
   "id": "ddbde25c-ad61-49e1-8e94-b73723cadbeb",
   "metadata": {},
   "outputs": [
    {
     "name": "stdout",
     "output_type": "stream",
     "text": [
      "[(1, '하늘은 왜 파란가요?', '하늘이 파란 이유는 주로 대기 중의 산란 현상 때문입니다'), (2, 'Hello', 'Hello! How can I assist you today?')]\n"
     ]
    }
   ],
   "source": [
    "# 데이터 조회 및 출력\n",
    "conn = sqlite3.connect('sample.db')\n",
    "c = conn.cursor()\n",
    "\n",
    "# 테이블의 모든 데이터를 조회\n",
    "c.execute('SELECT * FROM conversations')\n",
    "\n",
    "# SQL 쿼리의 결과로 반환된 모든 행을 한꺼번에 가져오고 리스트로 반환\n",
    "conversations = c.fetchall()\n",
    "\n",
    "# 결과 출력\n",
    "print(conversations)\n",
    "\n",
    "conn.close()  # 데이터베이스 연결 종료"
   ]
  },
  {
   "cell_type": "markdown",
   "id": "3b71f0ee-e7b8-48bf-b7c7-bfe8a9d0941a",
   "metadata": {},
   "source": [
    "### 함수로 구현하기\n",
    ": database.py"
   ]
  },
  {
   "cell_type": "code",
   "execution_count": 9,
   "id": "d6732e39-4068-4725-a23e-9d0d544a4238",
   "metadata": {},
   "outputs": [],
   "source": [
    "%%writefile database.py\n",
    "import sqlite3\n",
    "\n",
    "def init_db():\n",
    "    conn = sqlite3.connect('sample.db')\n",
    "    c = conn.cursor()\n",
    "    c.execute('''\n",
    "        CREATE TABLE IF NOT EXISTS conversations (\n",
    "            id INTEGER PRIMARY KEY AUTOINCREMENT,\n",
    "            question TEXT,\n",
    "            answer TEXT\n",
    "        )\n",
    "    ''')\n",
    "    conn.commit()\n",
    "    conn.close()\n",
    "\n",
    "def save_conversation(question, answer):\n",
    "    conn = sqlite3.connect('sample.db')\n",
    "    c = conn.cursor()\n",
    "    c.execute('''\n",
    "        INSERT INTO conversations (question, answer) VALUES (?, ?)\n",
    "    ''', (question, answer))\n",
    "    conn.commit()\n",
    "    conn.close()\n",
    "\n",
    "def get_conversations():\n",
    "    conn = sqlite3.connect('sample.db')\n",
    "    c = conn.cursor()\n",
    "    c.execute('SELECT * FROM conversations')\n",
    "    conversations = c.fetchall()\n",
    "    conn.close()\n",
    "    return conversations"
   ]
  },
  {
   "cell_type": "code",
   "execution_count": 10,
   "id": "bded8a74-8f03-44d6-a528-235c0f4b8f48",
   "metadata": {},
   "outputs": [
    {
     "name": "stdout",
     "output_type": "stream",
     "text": [
      "[(1, '하늘은 왜 파란가요?', '하늘이 파란 이유는 주로 대기 중의 산란 현상 때문입니다'), (2, 'Hello', 'Hello! How can I assist you today?')]\n"
     ]
    }
   ],
   "source": [
    "if __name__ == '__main__':\n",
    "    init_db()\n",
    "    save_conversation('Hello','Hello! How can I assist you today?')\n",
    "    print(get_conversations())"
   ]
  },
  {
   "cell_type": "code",
   "execution_count": null,
   "id": "f33ffce4-af3f-4bc9-a242-1ce7f1524bfb",
   "metadata": {},
   "outputs": [],
   "source": []
  }
 ],
 "metadata": {
  "kernelspec": {
   "display_name": "Python 3 (ipykernel)",
   "language": "python",
   "name": "python3"
  },
  "language_info": {
   "codemirror_mode": {
    "name": "ipython",
    "version": 3
   },
   "file_extension": ".py",
   "mimetype": "text/x-python",
   "name": "python",
   "nbconvert_exporter": "python",
   "pygments_lexer": "ipython3",
   "version": "3.10.12"
  }
 },
 "nbformat": 4,
 "nbformat_minor": 5
}
